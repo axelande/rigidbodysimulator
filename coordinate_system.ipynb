{
 "cells": [
  {
   "cell_type": "markdown",
   "metadata": {},
   "source": [
    "## Coordinate System\n",
    "Coordinate system in 6 Dof"
   ]
  },
  {
   "cell_type": "code",
   "execution_count": 1,
   "metadata": {},
   "outputs": [],
   "source": [
    "import warnings\n",
    "#warnings.filterwarnings('ignore')\n",
    "%matplotlib inline\n",
    "%load_ext autoreload\n",
    "%autoreload 2"
   ]
  },
  {
   "cell_type": "code",
   "execution_count": 2,
   "metadata": {},
   "outputs": [],
   "source": [
    "import sympy as sp\n",
    "import sympy.physics.mechanics as me\n",
    "import pandas as pd\n",
    "import numpy as np\n",
    "import matplotlib.pyplot as plt\n",
    "\n",
    "from substitute_dynamic_symbols import substitute_dynamic_symbols, find_name, find_derivative_name, lambdify, find_derivatives\n"
   ]
  },
  {
   "cell_type": "code",
   "execution_count": 3,
   "metadata": {},
   "outputs": [],
   "source": [
    "phi,theta,psi = sp.symbols('phi theta psi')\n",
    "\n",
    "\n",
    "p_x = sp.Symbol('p_x')\n",
    "p_y = sp.Symbol('p_y')\n",
    "p_z = sp.Symbol('p_z')\n",
    "\n"
   ]
  },
  {
   "cell_type": "code",
   "execution_count": 4,
   "metadata": {},
   "outputs": [],
   "source": [
    "N = me.ReferenceFrame('N')"
   ]
  },
  {
   "cell_type": "code",
   "execution_count": 5,
   "metadata": {},
   "outputs": [],
   "source": [
    "#M = N.orientnew('M', 'Axis', [psi, N.z])\n",
    "#O = me.ReferenceFrame('O')\n",
    "#O.orient(M,'Axis',[phi,M.x])\n",
    "#\n",
    "#S = me.ReferenceFrame('S')\n",
    "#S.orient(O,'Axis',[theta,M.y])\n",
    "\n",
    "\n",
    "\n"
   ]
  },
  {
   "cell_type": "code",
   "execution_count": 6,
   "metadata": {},
   "outputs": [],
   "source": [
    "S = N.orientnew('S','Body',[psi,theta,phi],'ZYX')"
   ]
  },
  {
   "cell_type": "code",
   "execution_count": 7,
   "metadata": {},
   "outputs": [
    {
     "data": {
      "text/latex": [
       "$\\displaystyle \\left[\\begin{matrix}\\cos{\\left(\\psi \\right)} \\cos{\\left(\\theta \\right)} & \\sin{\\left(\\psi \\right)} \\cos{\\left(\\theta \\right)} & - \\sin{\\left(\\theta \\right)}\\\\\\sin{\\left(\\phi \\right)} \\sin{\\left(\\theta \\right)} \\cos{\\left(\\psi \\right)} - \\sin{\\left(\\psi \\right)} \\cos{\\left(\\phi \\right)} & \\sin{\\left(\\phi \\right)} \\sin{\\left(\\psi \\right)} \\sin{\\left(\\theta \\right)} + \\cos{\\left(\\phi \\right)} \\cos{\\left(\\psi \\right)} & \\sin{\\left(\\phi \\right)} \\cos{\\left(\\theta \\right)}\\\\\\sin{\\left(\\phi \\right)} \\sin{\\left(\\psi \\right)} + \\sin{\\left(\\theta \\right)} \\cos{\\left(\\phi \\right)} \\cos{\\left(\\psi \\right)} & - \\sin{\\left(\\phi \\right)} \\cos{\\left(\\psi \\right)} + \\sin{\\left(\\psi \\right)} \\sin{\\left(\\theta \\right)} \\cos{\\left(\\phi \\right)} & \\cos{\\left(\\phi \\right)} \\cos{\\left(\\theta \\right)}\\end{matrix}\\right]$"
      ],
      "text/plain": [
       "Matrix([\n",
       "[                             cos(psi)*cos(theta),                               sin(psi)*cos(theta),         -sin(theta)],\n",
       "[sin(phi)*sin(theta)*cos(psi) - sin(psi)*cos(phi),  sin(phi)*sin(psi)*sin(theta) + cos(phi)*cos(psi), sin(phi)*cos(theta)],\n",
       "[sin(phi)*sin(psi) + sin(theta)*cos(phi)*cos(psi), -sin(phi)*cos(psi) + sin(psi)*sin(theta)*cos(phi), cos(phi)*cos(theta)]])"
      ]
     },
     "execution_count": 7,
     "metadata": {},
     "output_type": "execute_result"
    }
   ],
   "source": [
    "S.dcm(N)"
   ]
  },
  {
   "cell_type": "code",
   "execution_count": 8,
   "metadata": {},
   "outputs": [],
   "source": [
    "P = p_x*S.x + p_y*S.y + p_z*S.z"
   ]
  },
  {
   "cell_type": "code",
   "execution_count": 9,
   "metadata": {},
   "outputs": [
    {
     "data": {
      "text/latex": [
       "$\\displaystyle \\left[\\begin{matrix}p_{x} \\cos{\\left(\\psi \\right)} \\cos{\\left(\\theta \\right)} + p_{y} \\left(\\sin{\\left(\\phi \\right)} \\sin{\\left(\\theta \\right)} \\cos{\\left(\\psi \\right)} - \\sin{\\left(\\psi \\right)} \\cos{\\left(\\phi \\right)}\\right) + p_{z} \\left(\\sin{\\left(\\phi \\right)} \\sin{\\left(\\psi \\right)} + \\sin{\\left(\\theta \\right)} \\cos{\\left(\\phi \\right)} \\cos{\\left(\\psi \\right)}\\right)\\\\p_{x} \\sin{\\left(\\psi \\right)} \\cos{\\left(\\theta \\right)} + p_{y} \\left(\\sin{\\left(\\phi \\right)} \\sin{\\left(\\psi \\right)} \\sin{\\left(\\theta \\right)} + \\cos{\\left(\\phi \\right)} \\cos{\\left(\\psi \\right)}\\right) + p_{z} \\left(- \\sin{\\left(\\phi \\right)} \\cos{\\left(\\psi \\right)} + \\sin{\\left(\\psi \\right)} \\sin{\\left(\\theta \\right)} \\cos{\\left(\\phi \\right)}\\right)\\\\- p_{x} \\sin{\\left(\\theta \\right)} + p_{y} \\sin{\\left(\\phi \\right)} \\cos{\\left(\\theta \\right)} + p_{z} \\cos{\\left(\\phi \\right)} \\cos{\\left(\\theta \\right)}\\end{matrix}\\right]$"
      ],
      "text/plain": [
       "Matrix([\n",
       "[ p_x*cos(psi)*cos(theta) + p_y*(sin(phi)*sin(theta)*cos(psi) - sin(psi)*cos(phi)) + p_z*(sin(phi)*sin(psi) + sin(theta)*cos(phi)*cos(psi))],\n",
       "[p_x*sin(psi)*cos(theta) + p_y*(sin(phi)*sin(psi)*sin(theta) + cos(phi)*cos(psi)) + p_z*(-sin(phi)*cos(psi) + sin(psi)*sin(theta)*cos(phi))],\n",
       "[                                                                       -p_x*sin(theta) + p_y*sin(phi)*cos(theta) + p_z*cos(phi)*cos(theta)]])"
      ]
     },
     "execution_count": 9,
     "metadata": {},
     "output_type": "execute_result"
    }
   ],
   "source": [
    "P.to_matrix(N)"
   ]
  },
  {
   "cell_type": "code",
   "execution_count": 10,
   "metadata": {},
   "outputs": [],
   "source": [
    "args = [\n",
    "    p_x,\n",
    "    p_y,\n",
    "    p_z,\n",
    "    phi,\n",
    "    theta,\n",
    "    psi,\n",
    "]\n",
    "\n",
    "rotation_lambda = sp.lambdify(args,P.to_matrix(N),modules='numpy')"
   ]
  },
  {
   "cell_type": "code",
   "execution_count": 11,
   "metadata": {},
   "outputs": [],
   "source": [
    "def rotate2(p,phi_=0,theta_=0,psi_=0):\n",
    "    \n",
    "    args = {\n",
    "        'p_x':p[0],\n",
    "        'p_y':p[1],\n",
    "        'p_z':p[2],\n",
    "        'phi':phi_,\n",
    "        'theta':theta_,\n",
    "        'psi':psi_\n",
    "        }\n",
    "    \n",
    "    result = rotation_lambda(**args)\n",
    "    return result.reshape(3,result.shape[2]).T\n",
    "    "
   ]
  },
  {
   "cell_type": "code",
   "execution_count": 14,
   "metadata": {},
   "outputs": [
    {
     "data": {
      "application/vnd.jupyter.widget-view+json": {
       "model_id": "926d408450384d8ab9f73e554ba34ac3",
       "version_major": 2,
       "version_minor": 0
      },
      "text/plain": [
       "VBox(children=(Figure(animation=0.0, animation_exponent=0.0, camera=PerspectiveCamera(fov=46.0, position=(6.12…"
      ]
     },
     "metadata": {},
     "output_type": "display_data"
    },
    {
     "data": {
      "application/vnd.jupyter.widget-view+json": {
       "model_id": "550aa90082574887828cb821f07bd37c",
       "version_major": 2,
       "version_minor": 0
      },
      "text/plain": [
       "interactive(children=(FloatSlider(value=0.0, description='phi', max=180.0, min=-180.0), FloatSlider(value=0.0,…"
      ]
     },
     "metadata": {},
     "output_type": "display_data"
    }
   ],
   "source": [
    "import ipyvolume as ipv\n",
    "import ipywidgets as widgets\n",
    "\n",
    "class Scene:\n",
    "    def __init__(self):\n",
    "        \n",
    "        self.figure = ipv.figure(animation=0.,animation_exponent=0,width=800,height=800)\n",
    "        \n",
    "        \n",
    "        R = 1.\n",
    "        ipv.xlim(0, R)\n",
    "        ipv.ylim(0, R)\n",
    "        ipv.zlim(0, R)\n",
    "        ipv.style.box_off()\n",
    "        \n",
    "        self.load_ship_geometry()\n",
    "        \n",
    "        self.port = ipv.plot_mesh(self.X, self.Y_port, self.Z, wireframe=False)\n",
    "        self.stbd = ipv.plot_mesh(self.X, self.Y_starboard, self.Z, wireframe=False)\n",
    "\n",
    "        ipv.pylab.view(azimuth=180, elevation=60, distance=1)\n",
    "        ipv.show()\n",
    "        \n",
    "        self.ui = widgets.interact(self.update, phi=(-180.,180.), theta=(-180., 180.), psi=(-180., 180.))\n",
    "        \n",
    "    def load_ship_geometry(self):\n",
    "        \n",
    "        self.N = 10\n",
    "        L = 1\n",
    "        B = 0.1\n",
    "        T = 0.05\n",
    "        \n",
    "        x = np.linspace(0,L,self.N)\n",
    "        y = np.linspace(0,B,self.N)\n",
    "        z = np.linspace(0,T,self.N)\n",
    "        \n",
    "        X,Y = np.meshgrid(x,y)\n",
    "        Z=T-np.array(Y)\n",
    "        Y*=(L-X)**(0.4)\n",
    "        \n",
    "        self.X = X\n",
    "        self.Z = Z\n",
    "        self.Y_port = Y\n",
    "        self.Y_starboard = -Y\n",
    "        \n",
    "    def update(self, phi, theta, psi):\n",
    "        print(\"update with\", phi, theta, psi)\n",
    "        \n",
    "        angles = np.deg2rad([phi, theta, psi])\n",
    "        \n",
    "        X = self.X.flatten()\n",
    "        Y = self.Y_starboard.flatten()\n",
    "        Z = self.Z.flatten()\n",
    "        result = rotate2(p=[X,Y,Z],phi_=angles[0],theta_=angles[1],psi_=angles[2])\n",
    "        X_ = result[:,0]\n",
    "        Y_ = result[:,1]\n",
    "        Z_ = result[:,2]\n",
    "        self.stbd.x = X_\n",
    "        self.stbd.y = Y_\n",
    "        self.stbd.z = Z_\n",
    "        \n",
    "        X = self.X.flatten()\n",
    "        Y = self.Y_port.flatten()\n",
    "        Z = self.Z.flatten()\n",
    "        result = rotate2(p=[X,Y,Z],phi_=angles[0],theta_=angles[1],psi_=angles[2])\n",
    "        X_ = result[:,0]\n",
    "        Y_ = result[:,1]\n",
    "        Z_ = result[:,2]\n",
    "        self.port.x = X_\n",
    "        self.port.y = Y_\n",
    "        self.port.z = Z_\n",
    "               \n",
    "                \n",
    "\n",
    "scene = Scene()"
   ]
  },
  {
   "cell_type": "code",
   "execution_count": null,
   "metadata": {},
   "outputs": [],
   "source": []
  }
 ],
 "metadata": {
  "kernelspec": {
   "display_name": "Python 3",
   "language": "python",
   "name": "python3"
  }
 },
 "nbformat": 4,
 "nbformat_minor": 4
}
