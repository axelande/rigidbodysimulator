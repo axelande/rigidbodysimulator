{
 "cells": [
  {
   "cell_type": "markdown",
   "metadata": {},
   "source": [
    "## Exploring reference frame"
   ]
  },
  {
   "cell_type": "code",
   "execution_count": 1,
   "metadata": {},
   "outputs": [],
   "source": [
    "import sympy as sp\n",
    "import sympy.physics.mechanics as me"
   ]
  },
  {
   "cell_type": "code",
   "execution_count": 2,
   "metadata": {},
   "outputs": [],
   "source": [
    "psi = me.dynamicsymbols('psi')\n",
    "x0,y0 = me.dynamicsymbols('x0 y0')\n",
    "x01d,y01d = me.dynamicsymbols('x0 y0',1)\n",
    "\n",
    "u,v = me.dynamicsymbols('u v')"
   ]
  },
  {
   "cell_type": "code",
   "execution_count": 3,
   "metadata": {},
   "outputs": [],
   "source": [
    "N = me.ReferenceFrame('N')\n",
    "B = N.orientnew('B','Axis',[psi,N.z])"
   ]
  },
  {
   "cell_type": "code",
   "execution_count": 4,
   "metadata": {},
   "outputs": [
    {
     "data": {
      "text/latex": [
       "$\\displaystyle \\left[\\begin{matrix}\\cos{\\left(\\psi{\\left(t \\right)} \\right)} & \\sin{\\left(\\psi{\\left(t \\right)} \\right)} & 0\\\\- \\sin{\\left(\\psi{\\left(t \\right)} \\right)} & \\cos{\\left(\\psi{\\left(t \\right)} \\right)} & 0\\\\0 & 0 & 1\\end{matrix}\\right]$"
      ],
      "text/plain": [
       "Matrix([\n",
       "[ cos(psi(t)), sin(psi(t)), 0],\n",
       "[-sin(psi(t)), cos(psi(t)), 0],\n",
       "[           0,           0, 1]])"
      ]
     },
     "execution_count": 4,
     "metadata": {},
     "output_type": "execute_result"
    }
   ],
   "source": [
    "B.dcm(N)"
   ]
  },
  {
   "cell_type": "markdown",
   "metadata": {},
   "source": [
    "### V2pt_theory"
   ]
  },
  {
   "cell_type": "code",
   "execution_count": 5,
   "metadata": {},
   "outputs": [],
   "source": [
    "O = me.Point('O')\n",
    "P = O.locatenew('P',10*B.x)"
   ]
  },
  {
   "cell_type": "code",
   "execution_count": 6,
   "metadata": {},
   "outputs": [],
   "source": [
    "O.set_vel(N,x0*N.x + y0*N.y)"
   ]
  },
  {
   "cell_type": "code",
   "execution_count": 7,
   "metadata": {},
   "outputs": [
    {
     "data": {
      "text/latex": [
       "$\\displaystyle 10 \\dot{\\psi}\\mathbf{\\hat{b}_y} + x_{0}\\mathbf{\\hat{n}_x} + y_{0}\\mathbf{\\hat{n}_y}$"
      ],
      "text/plain": [
       "x0*N.x + y0*N.y + 10*psi'*B.y"
      ]
     },
     "execution_count": 7,
     "metadata": {},
     "output_type": "execute_result"
    }
   ],
   "source": [
    "P.v2pt_theory(O,N,B)"
   ]
  },
  {
   "cell_type": "code",
   "execution_count": 8,
   "metadata": {},
   "outputs": [
    {
     "data": {
      "text/latex": [
       "$\\displaystyle \\left[\\begin{matrix}\\operatorname{x_{0}}{\\left(t \\right)} - 10 \\sin{\\left(\\psi{\\left(t \\right)} \\right)} \\frac{d}{d t} \\psi{\\left(t \\right)}\\\\\\operatorname{y_{0}}{\\left(t \\right)} + 10 \\cos{\\left(\\psi{\\left(t \\right)} \\right)} \\frac{d}{d t} \\psi{\\left(t \\right)}\\\\0\\end{matrix}\\right]$"
      ],
      "text/plain": [
       "Matrix([\n",
       "[x0(t) - 10*sin(psi(t))*Derivative(psi(t), t)],\n",
       "[y0(t) + 10*cos(psi(t))*Derivative(psi(t), t)],\n",
       "[                                           0]])"
      ]
     },
     "execution_count": 8,
     "metadata": {},
     "output_type": "execute_result"
    }
   ],
   "source": [
    "P.vel(N).to_matrix(N)"
   ]
  },
  {
   "cell_type": "markdown",
   "metadata": {},
   "source": [
    "### V1pt_theory"
   ]
  },
  {
   "cell_type": "code",
   "execution_count": 9,
   "metadata": {},
   "outputs": [],
   "source": [
    "O = me.Point('O')\n",
    "P = O.locatenew('P',0)"
   ]
  },
  {
   "cell_type": "code",
   "execution_count": 10,
   "metadata": {},
   "outputs": [],
   "source": [
    "O.set_vel(N,0)\n",
    "P.set_vel(B,u*B.x + v*B.y)"
   ]
  },
  {
   "cell_type": "code",
   "execution_count": 11,
   "metadata": {},
   "outputs": [
    {
     "data": {
      "text/latex": [
       "$\\displaystyle u\\mathbf{\\hat{b}_x} + v\\mathbf{\\hat{b}_y}$"
      ],
      "text/plain": [
       "u*B.x + v*B.y"
      ]
     },
     "execution_count": 11,
     "metadata": {},
     "output_type": "execute_result"
    }
   ],
   "source": [
    "P.v1pt_theory(O,N,B)"
   ]
  },
  {
   "cell_type": "code",
   "execution_count": 12,
   "metadata": {},
   "outputs": [
    {
     "data": {
      "text/latex": [
       "$\\displaystyle \\left[\\begin{matrix}u{\\left(t \\right)} \\cos{\\left(\\psi{\\left(t \\right)} \\right)} - v{\\left(t \\right)} \\sin{\\left(\\psi{\\left(t \\right)} \\right)}\\\\u{\\left(t \\right)} \\sin{\\left(\\psi{\\left(t \\right)} \\right)} + v{\\left(t \\right)} \\cos{\\left(\\psi{\\left(t \\right)} \\right)}\\\\0\\end{matrix}\\right]$"
      ],
      "text/plain": [
       "Matrix([\n",
       "[u(t)*cos(psi(t)) - v(t)*sin(psi(t))],\n",
       "[u(t)*sin(psi(t)) + v(t)*cos(psi(t))],\n",
       "[                                  0]])"
      ]
     },
     "execution_count": 12,
     "metadata": {},
     "output_type": "execute_result"
    }
   ],
   "source": [
    "P.vel(N).to_matrix(N)"
   ]
  },
  {
   "cell_type": "markdown",
   "metadata": {},
   "source": [
    "## Bludder"
   ]
  },
  {
   "cell_type": "code",
   "execution_count": 31,
   "metadata": {},
   "outputs": [
    {
     "data": {
      "text/latex": [
       "$\\displaystyle u\\mathbf{\\hat{b}_x} + v\\mathbf{\\hat{b}_y} -  y_{0} \\dot{\\psi}\\mathbf{\\hat{n}_x} + x_{0} \\dot{\\psi}\\mathbf{\\hat{n}_y}$"
      ],
      "text/plain": [
       "- y0*psi'*N.x + x0*psi'*N.y + u*B.x + v*B.y"
      ]
     },
     "execution_count": 31,
     "metadata": {},
     "output_type": "execute_result"
    }
   ],
   "source": [
    "O = me.Point('O')\n",
    "O.set_vel(N,0)\n",
    "\n",
    "P = me.Point('P')\n",
    "P.set_pos(O,x0*N.x + y0*N.y)\n",
    "P.set_vel(B,u*B.x + v*B.y)\n",
    "\n",
    "P.v1pt_theory(O,N,B)"
   ]
  },
  {
   "cell_type": "code",
   "execution_count": 32,
   "metadata": {},
   "outputs": [
    {
     "data": {
      "text/latex": [
       "$\\displaystyle \\left[\\begin{matrix}u{\\left(t \\right)} \\cos{\\left(\\psi{\\left(t \\right)} \\right)} - v{\\left(t \\right)} \\sin{\\left(\\psi{\\left(t \\right)} \\right)} - \\operatorname{y_{0}}{\\left(t \\right)} \\frac{d}{d t} \\psi{\\left(t \\right)}\\\\u{\\left(t \\right)} \\sin{\\left(\\psi{\\left(t \\right)} \\right)} + v{\\left(t \\right)} \\cos{\\left(\\psi{\\left(t \\right)} \\right)} + \\operatorname{x_{0}}{\\left(t \\right)} \\frac{d}{d t} \\psi{\\left(t \\right)}\\\\0\\end{matrix}\\right]$"
      ],
      "text/plain": [
       "Matrix([\n",
       "[u(t)*cos(psi(t)) - v(t)*sin(psi(t)) - y0(t)*Derivative(psi(t), t)],\n",
       "[u(t)*sin(psi(t)) + v(t)*cos(psi(t)) + x0(t)*Derivative(psi(t), t)],\n",
       "[                                                                0]])"
      ]
     },
     "execution_count": 32,
     "metadata": {},
     "output_type": "execute_result"
    }
   ],
   "source": [
    "P.vel(N).to_matrix(N)"
   ]
  },
  {
   "cell_type": "code",
   "execution_count": null,
   "metadata": {},
   "outputs": [],
   "source": []
  }
 ],
 "metadata": {
  "kernelspec": {
   "display_name": "Python 3",
   "language": "python",
   "name": "python3"
  },
  "language_info": {
   "codemirror_mode": {
    "name": "ipython",
    "version": 3
   },
   "file_extension": ".py",
   "mimetype": "text/x-python",
   "name": "python",
   "nbconvert_exporter": "python",
   "pygments_lexer": "ipython3",
   "version": "3.5.4"
  }
 },
 "nbformat": 4,
 "nbformat_minor": 2
}
