{
 "cells": [
  {
   "cell_type": "markdown",
   "metadata": {},
   "source": [
    "## Accleration from motion\n",
    "Calcualtion of 6 DOF acceleration in some point based on 6 DOF motion in some other point"
   ]
  },
  {
   "cell_type": "code",
   "execution_count": 2,
   "metadata": {},
   "outputs": [],
   "source": [
    "import warnings\n",
    "#warnings.filterwarnings('ignore')\n",
    "%matplotlib inline\n",
    "%load_ext autoreload\n",
    "%autoreload 2"
   ]
  },
  {
   "cell_type": "code",
   "execution_count": 3,
   "metadata": {},
   "outputs": [
    {
     "ename": "ImportError",
     "evalue": "No module named 'signal_lab'",
     "output_type": "error",
     "traceback": [
      "\u001b[1;31m---------------------------------------------------------------------------\u001b[0m",
      "\u001b[1;31mImportError\u001b[0m                               Traceback (most recent call last)",
      "\u001b[1;32m<ipython-input-3-e9702471b562>\u001b[0m in \u001b[0;36m<module>\u001b[1;34m\u001b[0m\n\u001b[0;32m      5\u001b[0m \u001b[1;32mimport\u001b[0m \u001b[0mmatplotlib\u001b[0m\u001b[1;33m.\u001b[0m\u001b[0mpyplot\u001b[0m \u001b[1;32mas\u001b[0m \u001b[0mplt\u001b[0m\u001b[1;33m\u001b[0m\u001b[0m\n\u001b[0;32m      6\u001b[0m \u001b[1;33m\u001b[0m\u001b[0m\n\u001b[1;32m----> 7\u001b[1;33m \u001b[1;32mfrom\u001b[0m \u001b[0msignal_lab\u001b[0m\u001b[1;33m.\u001b[0m\u001b[0msubstitute_dynamic_symbols\u001b[0m \u001b[1;32mimport\u001b[0m \u001b[0msubstitute_dynamic_symbols\u001b[0m\u001b[1;33m,\u001b[0m \u001b[0mfind_name\u001b[0m\u001b[1;33m,\u001b[0m \u001b[0mfind_derivative_name\u001b[0m\u001b[1;33m,\u001b[0m \u001b[0mlambdify\u001b[0m\u001b[1;33m,\u001b[0m \u001b[0mfind_derivatives\u001b[0m\u001b[1;33m\u001b[0m\u001b[0m\n\u001b[0m",
      "\u001b[1;31mImportError\u001b[0m: No module named 'signal_lab'"
     ]
    }
   ],
   "source": [
    "import sympy as sp\n",
    "import sympy.physics.mechanics as me\n",
    "import pandas as pd\n",
    "import numpy as np\n",
    "import matplotlib.pyplot as plt\n",
    "\n",
    "from signal_lab.substitute_dynamic_symbols import substitute_dynamic_symbols, find_name, find_derivative_name, lambdify, find_derivatives\n"
   ]
  },
  {
   "cell_type": "code",
   "execution_count": null,
   "metadata": {},
   "outputs": [],
   "source": [
    "x0,y0,z0 = me.dynamicsymbols('x0 y0 z0')\n",
    "x01d,y01d,z01d = me.dynamicsymbols('x0 y0 z0',1)\n",
    "x02d,y02d,z02d = me.dynamicsymbols('x0 y0 z0',2)\n",
    "\n",
    "phi,theta,psi = me.dynamicsymbols('phi theta psi')\n",
    "p,q,r = me.dynamicsymbols('phi theta psi',1)\n",
    "p1d,q1d,r1d = me.dynamicsymbols('phi theta psi',2)\n",
    "\n",
    "\n",
    "p_x = sp.Symbol('p_x')\n",
    "p_y = sp.Symbol('p_y')\n",
    "p_z = sp.Symbol('p_z')\n",
    "\n"
   ]
  },
  {
   "cell_type": "code",
   "execution_count": null,
   "metadata": {},
   "outputs": [],
   "source": [
    "x02d"
   ]
  },
  {
   "cell_type": "code",
   "execution_count": null,
   "metadata": {},
   "outputs": [],
   "source": [
    "N = me.ReferenceFrame('N')"
   ]
  },
  {
   "cell_type": "code",
   "execution_count": null,
   "metadata": {},
   "outputs": [],
   "source": [
    "#S = N.orientnew('S', 'Body', [phi,theta,psi],'321')\n",
    "#M = N.orientnew('M','Axis', [psi,N.z])\n",
    "\n",
    "S = N.orientnew('S', 'Body', [psi,theta,phi],'ZYX')\n"
   ]
  },
  {
   "cell_type": "code",
   "execution_count": null,
   "metadata": {},
   "outputs": [],
   "source": [
    "#S.set_ang_vel(N, q * N.y)\n",
    "#S.set_ang_acc(N, q1d * N.y)"
   ]
  },
  {
   "cell_type": "code",
   "execution_count": null,
   "metadata": {},
   "outputs": [],
   "source": [
    "S.ang_vel_in(N)"
   ]
  },
  {
   "cell_type": "code",
   "execution_count": null,
   "metadata": {},
   "outputs": [],
   "source": [
    "S.ang_acc_in(N)"
   ]
  },
  {
   "cell_type": "code",
   "execution_count": null,
   "metadata": {},
   "outputs": [],
   "source": [
    "M = me.Point('M')  # Origo of measurement system\n",
    "M.set_vel(N, 0)\n",
    "\n",
    "O = M.locatenew('O', x0*N.x + y0*N.y + z0*N.z) # Origo of ship\n",
    "O.set_vel(N, x01d*N.x + y01d*N.y + z01d*N.z)\n",
    "O.set_acc(N, x02d*N.x + y02d*N.y + z02d*N.z)\n",
    "\n"
   ]
  },
  {
   "cell_type": "code",
   "execution_count": null,
   "metadata": {},
   "outputs": [],
   "source": [
    "P = O.locatenew('P', p_x*S.x + p_y*S.y + p_z*S.z)\n",
    "P.set_vel(S, 0)\n"
   ]
  },
  {
   "cell_type": "code",
   "execution_count": null,
   "metadata": {},
   "outputs": [],
   "source": [
    "S.dcm(N)"
   ]
  },
  {
   "cell_type": "code",
   "execution_count": null,
   "metadata": {},
   "outputs": [],
   "source": [
    "vector = P.pos_from(M)\n",
    "motion_P = vector.express(N)\n",
    "motion_P"
   ]
  },
  {
   "cell_type": "code",
   "execution_count": null,
   "metadata": {},
   "outputs": [],
   "source": [
    "motion_matrix = vector.to_matrix(N)\n",
    "motion_matrix"
   ]
  },
  {
   "cell_type": "code",
   "execution_count": null,
   "metadata": {},
   "outputs": [],
   "source": [
    "motion_lambda = lambdify(motion_matrix)"
   ]
  },
  {
   "cell_type": "code",
   "execution_count": null,
   "metadata": {},
   "outputs": [],
   "source": [
    "motion_lambda"
   ]
  },
  {
   "cell_type": "code",
   "execution_count": null,
   "metadata": {},
   "outputs": [],
   "source": [
    "number_of_points = 100\n",
    "t = np.linspace(0,2*np.pi,number_of_points)\n",
    "df = pd.DataFrame(index = t)\n",
    "df['phi'] = 0\n",
    "df['theta'] = np.sin(t)\n",
    "df['psi'] = 0\n",
    "\n",
    "df['p_x'] = 20\n",
    "df['p_y'] = 0\n",
    "df['p_z'] = 1\n",
    "\n",
    "df['x0'] = np.sin(t)\n",
    "df['y0'] = np.sin(t)\n",
    "df['z0'] = -np.sin(t)\n",
    "motions = motion_lambda(**df)\n",
    "\n",
    "df_result = df.copy()\n",
    "df_result['x'] = motions[0][0]\n",
    "df_result['y'] = motions[1][0]\n",
    "df_result['z'] = motions[2][0]\n",
    "\n",
    "fig,ax=plt.subplots()\n",
    "df_result.plot(y='x', ax=ax)\n",
    "\n",
    "fig,ax=plt.subplots()\n",
    "df_result.plot(y='z', ax=ax)\n"
   ]
  },
  {
   "cell_type": "markdown",
   "metadata": {},
   "source": [
    "## Velocity"
   ]
  },
  {
   "cell_type": "code",
   "execution_count": null,
   "metadata": {},
   "outputs": [],
   "source": [
    "P.v2pt_theory(O,N,S)"
   ]
  },
  {
   "cell_type": "code",
   "execution_count": null,
   "metadata": {},
   "outputs": [],
   "source": [
    "velocity_matrix = P.vel(N).express(N).to_matrix(N)\n",
    "velocity_matrix"
   ]
  },
  {
   "cell_type": "code",
   "execution_count": null,
   "metadata": {},
   "outputs": [],
   "source": [
    "velocity_lambda = lambdify(velocity_matrix)"
   ]
  },
  {
   "cell_type": "code",
   "execution_count": null,
   "metadata": {},
   "outputs": [],
   "source": [
    "velocity_lambda"
   ]
  },
  {
   "cell_type": "code",
   "execution_count": null,
   "metadata": {},
   "outputs": [],
   "source": [
    "number_of_points = 100\n",
    "t = np.linspace(0,2*np.pi,number_of_points)\n",
    "df = pd.DataFrame(index = t)\n",
    "df['phi'] = 0\n",
    "df['theta'] = np.sin(t)\n",
    "df['psi'] = 0\n",
    "\n",
    "df['phi1d'] = 0\n",
    "df['theta1d'] = np.cos(t)\n",
    "df['psi1d'] = 0\n",
    "\n",
    "df['p_x'] = 20\n",
    "df['p_y'] = 0\n",
    "df['p_z'] = 1\n",
    "\n",
    "df['x01d'] = 10\n",
    "df['y01d'] = 0\n",
    "df['z01d'] = 0\n",
    "\n",
    "\n",
    "velocities = velocity_lambda(**df)\n",
    "\n",
    "df_result = df.copy()\n",
    "df_result['x01d'] = velocities[0][0]\n",
    "df_result['y01d'] = velocities[1][0]\n",
    "df_result['z01d'] = velocities[2][0]\n",
    "\n",
    "fig,ax=plt.subplots()\n",
    "df_result.plot(y='x01d', ax=ax)\n",
    "\n",
    "fig,ax=plt.subplots()\n",
    "df_result.plot(y='z01d', ax=ax)"
   ]
  },
  {
   "cell_type": "markdown",
   "metadata": {},
   "source": [
    "## Acceleration"
   ]
  },
  {
   "cell_type": "code",
   "execution_count": null,
   "metadata": {},
   "outputs": [],
   "source": [
    "P.a2pt_theory(O,N,S)"
   ]
  },
  {
   "cell_type": "markdown",
   "metadata": {},
   "source": [
    "### Acceleration in earth fixed reference frame N expressed in ship Reference frame S"
   ]
  },
  {
   "cell_type": "code",
   "execution_count": null,
   "metadata": {},
   "outputs": [],
   "source": [
    "#acceleration_matrix = P.acc(N).express(N).to_matrix(N)\n",
    "acceleration_matrix = P.acc(N).express(S).to_matrix(S)\n",
    "\n",
    "acceleration_matrix"
   ]
  },
  {
   "cell_type": "code",
   "execution_count": null,
   "metadata": {},
   "outputs": [],
   "source": [
    "substitute_dynamic_symbols(acceleration_matrix)"
   ]
  },
  {
   "cell_type": "code",
   "execution_count": null,
   "metadata": {},
   "outputs": [],
   "source": [
    "acceleration_lambda = lambdify(acceleration_matrix)"
   ]
  },
  {
   "cell_type": "code",
   "execution_count": null,
   "metadata": {},
   "outputs": [],
   "source": [
    "acceleration_lambda"
   ]
  },
  {
   "cell_type": "markdown",
   "metadata": {},
   "source": [
    "### Centrifugal acceleration\n",
    "Absolute acceleration can be calcualted as: <br>\n",
    "$ |a| = r\\cdot\\dot{\\theta}^2 $\n",
    "\n",
    "With the components: <br>\n",
    "$ \\ddot{x_0} = -a $ <br>\n",
    "$ \\ddot{z_0} = 0 $\n"
   ]
  },
  {
   "cell_type": "code",
   "execution_count": null,
   "metadata": {},
   "outputs": [],
   "source": [
    "number_of_points = 100\n",
    "t = np.linspace(0,2*np.pi,number_of_points)\n",
    "r_ = 10\n",
    "w_ = 1\n",
    "df = pd.DataFrame(index = t)\n",
    "\n",
    "df['phi'] = 0\n",
    "df['theta'] = w_*t\n",
    "df['psi'] = 0\n",
    "\n",
    "df['phi1d'] = 0\n",
    "df['theta1d'] = w_\n",
    "df['psi1d'] = 0\n",
    "\n",
    "df['phi2d'] = 0\n",
    "df['theta2d'] = 0\n",
    "df['psi2d'] = 0\n",
    "\n",
    "df['p_x'] = r_\n",
    "df['p_y'] = 0\n",
    "df['p_z'] = 0\n",
    "\n",
    "\n",
    "df['x02d'] = 0\n",
    "df['y02d'] = 0\n",
    "df['z02d'] = 0\n",
    "\n",
    "\n",
    "accelerations = acceleration_lambda(**df)\n",
    "\n",
    "df_result = df.copy()\n",
    "df_result['x02d'] = accelerations[0,0]\n",
    "df_result['y02d'] = accelerations[1,0]\n",
    "df_result['z02d'] = accelerations[2,0]\n",
    "\n",
    "a = r_* w_**2\n",
    "df_result['x02d_check'] = -a\n",
    "df_result['z02d_check'] = 0\n",
    "\n",
    "fig,ax=plt.subplots()\n",
    "df_result.plot(y=['x02d','x02d_check'], ax=ax, alpha=0.7)\n",
    "\n",
    "fig,ax=plt.subplots()\n",
    "df_result.plot(y=['z02d','z02d_check'], ax=ax, alpha=0.7)"
   ]
  },
  {
   "cell_type": "markdown",
   "metadata": {},
   "source": [
    "## Save lambdas"
   ]
  },
  {
   "cell_type": "code",
   "execution_count": null,
   "metadata": {},
   "outputs": [],
   "source": [
    "import dill\n",
    "import signal_lab\n",
    "dill.settings['recurse'] = True"
   ]
  },
  {
   "cell_type": "code",
   "execution_count": null,
   "metadata": {},
   "outputs": [],
   "source": [
    "import os.path\n",
    "with open(os.path.join(signal_lab.directory,'point_acceleration.dill'),mode='wb') as file:\n",
    "    dill.dump(acceleration_lambda, file=file)"
   ]
  },
  {
   "cell_type": "code",
   "execution_count": null,
   "metadata": {},
   "outputs": [],
   "source": []
  }
 ],
 "metadata": {
  "kernelspec": {
   "display_name": "Python 3",
   "language": "python",
   "name": "python3"
  }
 },
 "nbformat": 4,
 "nbformat_minor": 4
}
