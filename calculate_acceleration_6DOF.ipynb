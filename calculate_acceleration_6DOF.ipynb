{
 "cells": [
  {
   "cell_type": "markdown",
   "metadata": {},
   "source": [
    "## Accleration from motion\n",
    "Calcualtion of 6 DOF acceleration in some point based on 6 DOF motion in some other point"
   ]
  },
  {
   "cell_type": "code",
   "execution_count": 1,
   "metadata": {},
   "outputs": [],
   "source": [
    "import warnings\n",
    "#warnings.filterwarnings('ignore')\n",
    "%matplotlib inline\n",
    "%load_ext autoreload\n",
    "%autoreload 2"
   ]
  },
  {
   "cell_type": "code",
   "execution_count": 2,
   "metadata": {},
   "outputs": [],
   "source": [
    "import sympy as sp\n",
    "import sympy.physics.mechanics as me\n",
    "import pandas as pd\n",
    "import numpy as np\n",
    "import matplotlib.pyplot as plt\n",
    "\n",
    "from signal_lab.substitute_dynamic_symbols import substitute_dynamic_symbols, find_name, find_derivative_name, lambdify, find_derivatives\n"
   ]
  },
  {
   "cell_type": "code",
   "execution_count": 3,
   "metadata": {},
   "outputs": [],
   "source": [
    "x0,y0,z0 = me.dynamicsymbols('x0 y0 z0')\n",
    "x01d,y01d,z01d = me.dynamicsymbols('x0 y0 z0',1)\n",
    "x02d,y02d,z02d = me.dynamicsymbols('x0 y0 z0',2)\n",
    "\n",
    "phi,theta,psi = me.dynamicsymbols('phi theta psi')\n",
    "p,q,r = me.dynamicsymbols('phi theta psi',1)\n",
    "p1d,q1d,r1d = me.dynamicsymbols('phi theta psi',2)\n",
    "\n",
    "\n",
    "p_x = sp.Symbol('p_x')\n",
    "p_y = sp.Symbol('p_y')\n",
    "p_z = sp.Symbol('p_z')\n",
    "\n"
   ]
  },
  {
   "cell_type": "code",
   "execution_count": 4,
   "metadata": {},
   "outputs": [
    {
     "data": {
      "text/latex": [
       "$\\displaystyle \\frac{d^{2}}{d t^{2}} \\operatorname{x_{0}}{\\left(t \\right)}$"
      ],
      "text/plain": [
       "Derivative(x0(t), (t, 2))"
      ]
     },
     "execution_count": 4,
     "metadata": {},
     "output_type": "execute_result"
    }
   ],
   "source": [
    "x02d"
   ]
  },
  {
   "cell_type": "code",
   "execution_count": 5,
   "metadata": {},
   "outputs": [],
   "source": [
    "N = me.ReferenceFrame('N')"
   ]
  },
  {
   "cell_type": "code",
   "execution_count": 6,
   "metadata": {},
   "outputs": [],
   "source": [
    "#S = N.orientnew('S', 'Body', [phi,theta,psi],'321')\n",
    "#M = N.orientnew('M','Axis', [psi,N.z])\n",
    "\n",
    "S = N.orientnew('S', 'Body', [psi,theta,phi],'ZYX')\n"
   ]
  },
  {
   "cell_type": "code",
   "execution_count": 7,
   "metadata": {},
   "outputs": [],
   "source": [
    "#S.set_ang_vel(N, q * N.y)\n",
    "#S.set_ang_acc(N, q1d * N.y)"
   ]
  },
  {
   "cell_type": "code",
   "execution_count": 8,
   "metadata": {},
   "outputs": [
    {
     "data": {
      "text/latex": [
       "$\\displaystyle (- \\operatorname{sin}\\left(\\theta\\right) \\dot{\\psi} + \\dot{\\phi})\\mathbf{\\hat{s}_x} + (\\operatorname{sin}\\left(\\phi\\right) \\operatorname{cos}\\left(\\theta\\right) \\dot{\\psi} + \\operatorname{cos}\\left(\\phi\\right) \\dot{\\theta})\\mathbf{\\hat{s}_y} + (- \\operatorname{sin}\\left(\\phi\\right) \\dot{\\theta} + \\operatorname{cos}\\left(\\phi\\right) \\operatorname{cos}\\left(\\theta\\right) \\dot{\\psi})\\mathbf{\\hat{s}_z}$"
      ],
      "text/plain": [
       "(-sin(theta)*psi' + phi')*S.x + (sin(phi)*cos(theta)*psi' + cos(phi)*theta')*S.y + (-sin(phi)*theta' + cos(phi)*cos(theta)*psi')*S.z"
      ]
     },
     "execution_count": 8,
     "metadata": {},
     "output_type": "execute_result"
    }
   ],
   "source": [
    "S.ang_vel_in(N)"
   ]
  },
  {
   "cell_type": "code",
   "execution_count": 9,
   "metadata": {},
   "outputs": [
    {
     "data": {
      "text/latex": [
       "$\\displaystyle (- \\operatorname{sin}\\left(\\theta\\right) \\ddot{\\psi} - \\operatorname{cos}\\left(\\theta\\right) \\dot{\\psi} \\dot{\\theta} + \\ddot{\\phi})\\mathbf{\\hat{s}_x} + (- \\operatorname{sin}\\left(\\phi\\right) \\operatorname{sin}\\left(\\theta\\right) \\dot{\\psi} \\dot{\\theta} + \\operatorname{sin}\\left(\\phi\\right) \\operatorname{cos}\\left(\\theta\\right) \\ddot{\\psi} - \\operatorname{sin}\\left(\\phi\\right) \\dot{\\phi} \\dot{\\theta} + \\operatorname{cos}\\left(\\phi\\right) \\operatorname{cos}\\left(\\theta\\right) \\dot{\\phi} \\dot{\\psi} + \\operatorname{cos}\\left(\\phi\\right) \\ddot{\\theta})\\mathbf{\\hat{s}_y} + (- \\operatorname{sin}\\left(\\phi\\right) \\operatorname{cos}\\left(\\theta\\right) \\dot{\\phi} \\dot{\\psi} - \\operatorname{sin}\\left(\\phi\\right) \\ddot{\\theta} - \\operatorname{sin}\\left(\\theta\\right) \\operatorname{cos}\\left(\\phi\\right) \\dot{\\psi} \\dot{\\theta} + \\operatorname{cos}\\left(\\phi\\right) \\operatorname{cos}\\left(\\theta\\right) \\ddot{\\psi} - \\operatorname{cos}\\left(\\phi\\right) \\dot{\\phi} \\dot{\\theta})\\mathbf{\\hat{s}_z}$"
      ],
      "text/plain": [
       "(-sin(theta)*psi'' - cos(theta)*psi'*theta' + phi'')*S.x + (-sin(phi)*sin(theta)*psi'*theta' + sin(phi)*cos(theta)*psi'' - sin(phi)*phi'*theta' + cos(phi)*cos(theta)*phi'*psi' + cos(phi)*theta'')*S.y + (-sin(phi)*cos(theta)*phi'*psi' - sin(phi)*theta'' - sin(theta)*cos(phi)*psi'*theta' + cos(phi)*cos(theta)*psi'' - cos(phi)*phi'*theta')*S.z"
      ]
     },
     "execution_count": 9,
     "metadata": {},
     "output_type": "execute_result"
    }
   ],
   "source": [
    "S.ang_acc_in(N)"
   ]
  },
  {
   "cell_type": "code",
   "execution_count": 10,
   "metadata": {},
   "outputs": [],
   "source": [
    "M = me.Point('M')  # Origo of measurement system\n",
    "M.set_vel(N, 0)\n",
    "\n",
    "O = M.locatenew('O', x0*N.x + y0*N.y + z0*N.z) # Origo of ship\n",
    "O.set_vel(N, x01d*N.x + y01d*N.y + z01d*N.z)\n",
    "O.set_acc(N, x02d*N.x + y02d*N.y + z02d*N.z)\n",
    "\n"
   ]
  },
  {
   "cell_type": "code",
   "execution_count": 11,
   "metadata": {},
   "outputs": [],
   "source": [
    "P = O.locatenew('P', p_x*S.x + p_y*S.y + p_z*S.z)\n",
    "P.set_vel(S, 0)\n"
   ]
  },
  {
   "cell_type": "code",
   "execution_count": 12,
   "metadata": {},
   "outputs": [
    {
     "data": {
      "text/latex": [
       "$\\displaystyle \\left[\\begin{matrix}\\cos{\\left(\\psi{\\left(t \\right)} \\right)} \\cos{\\left(\\theta{\\left(t \\right)} \\right)} & \\sin{\\left(\\psi{\\left(t \\right)} \\right)} \\cos{\\left(\\theta{\\left(t \\right)} \\right)} & - \\sin{\\left(\\theta{\\left(t \\right)} \\right)}\\\\\\sin{\\left(\\phi{\\left(t \\right)} \\right)} \\sin{\\left(\\theta{\\left(t \\right)} \\right)} \\cos{\\left(\\psi{\\left(t \\right)} \\right)} - \\sin{\\left(\\psi{\\left(t \\right)} \\right)} \\cos{\\left(\\phi{\\left(t \\right)} \\right)} & \\sin{\\left(\\phi{\\left(t \\right)} \\right)} \\sin{\\left(\\psi{\\left(t \\right)} \\right)} \\sin{\\left(\\theta{\\left(t \\right)} \\right)} + \\cos{\\left(\\phi{\\left(t \\right)} \\right)} \\cos{\\left(\\psi{\\left(t \\right)} \\right)} & \\sin{\\left(\\phi{\\left(t \\right)} \\right)} \\cos{\\left(\\theta{\\left(t \\right)} \\right)}\\\\\\sin{\\left(\\phi{\\left(t \\right)} \\right)} \\sin{\\left(\\psi{\\left(t \\right)} \\right)} + \\sin{\\left(\\theta{\\left(t \\right)} \\right)} \\cos{\\left(\\phi{\\left(t \\right)} \\right)} \\cos{\\left(\\psi{\\left(t \\right)} \\right)} & - \\sin{\\left(\\phi{\\left(t \\right)} \\right)} \\cos{\\left(\\psi{\\left(t \\right)} \\right)} + \\sin{\\left(\\psi{\\left(t \\right)} \\right)} \\sin{\\left(\\theta{\\left(t \\right)} \\right)} \\cos{\\left(\\phi{\\left(t \\right)} \\right)} & \\cos{\\left(\\phi{\\left(t \\right)} \\right)} \\cos{\\left(\\theta{\\left(t \\right)} \\right)}\\end{matrix}\\right]$"
      ],
      "text/plain": [
       "Matrix([\n",
       "[                                      cos(psi(t))*cos(theta(t)),                                        sin(psi(t))*cos(theta(t)),            -sin(theta(t))],\n",
       "[sin(phi(t))*sin(theta(t))*cos(psi(t)) - sin(psi(t))*cos(phi(t)),  sin(phi(t))*sin(psi(t))*sin(theta(t)) + cos(phi(t))*cos(psi(t)), sin(phi(t))*cos(theta(t))],\n",
       "[sin(phi(t))*sin(psi(t)) + sin(theta(t))*cos(phi(t))*cos(psi(t)), -sin(phi(t))*cos(psi(t)) + sin(psi(t))*sin(theta(t))*cos(phi(t)), cos(phi(t))*cos(theta(t))]])"
      ]
     },
     "execution_count": 12,
     "metadata": {},
     "output_type": "execute_result"
    }
   ],
   "source": [
    "S.dcm(N)"
   ]
  },
  {
   "cell_type": "code",
   "execution_count": 13,
   "metadata": {},
   "outputs": [
    {
     "data": {
      "text/latex": [
       "$\\displaystyle (p_{x} \\operatorname{cos}\\left(\\psi\\right) \\operatorname{cos}\\left(\\theta\\right) + p_{y} \\left(\\operatorname{sin}\\left(\\phi\\right) \\operatorname{sin}\\left(\\theta\\right) \\operatorname{cos}\\left(\\psi\\right) - \\operatorname{sin}\\left(\\psi\\right) \\operatorname{cos}\\left(\\phi\\right)\\right) + p_{z} \\left(\\operatorname{sin}\\left(\\phi\\right) \\operatorname{sin}\\left(\\psi\\right) + \\operatorname{sin}\\left(\\theta\\right) \\operatorname{cos}\\left(\\phi\\right) \\operatorname{cos}\\left(\\psi\\right)\\right) + x_{0})\\mathbf{\\hat{n}_x} + (p_{x} \\operatorname{sin}\\left(\\psi\\right) \\operatorname{cos}\\left(\\theta\\right) + p_{y} \\left(\\operatorname{sin}\\left(\\phi\\right) \\operatorname{sin}\\left(\\psi\\right) \\operatorname{sin}\\left(\\theta\\right) + \\operatorname{cos}\\left(\\phi\\right) \\operatorname{cos}\\left(\\psi\\right)\\right) + p_{z} \\left(- \\operatorname{sin}\\left(\\phi\\right) \\operatorname{cos}\\left(\\psi\\right) + \\operatorname{sin}\\left(\\psi\\right) \\operatorname{sin}\\left(\\theta\\right) \\operatorname{cos}\\left(\\phi\\right)\\right) + y_{0})\\mathbf{\\hat{n}_y} + (- p_{x} \\operatorname{sin}\\left(\\theta\\right) + p_{y} \\operatorname{sin}\\left(\\phi\\right) \\operatorname{cos}\\left(\\theta\\right) + p_{z} \\operatorname{cos}\\left(\\phi\\right) \\operatorname{cos}\\left(\\theta\\right) + z_{0})\\mathbf{\\hat{n}_z}$"
      ],
      "text/plain": [
       "(p_x*cos(psi)*cos(theta) + p_y*(sin(phi)*sin(theta)*cos(psi) - sin(psi)*cos(phi)) + p_z*(sin(phi)*sin(psi) + sin(theta)*cos(phi)*cos(psi)) + x0)*N.x + (p_x*sin(psi)*cos(theta) + p_y*(sin(phi)*sin(psi)*sin(theta) + cos(phi)*cos(psi)) + p_z*(-sin(phi)*cos(psi) + sin(psi)*sin(theta)*cos(phi)) + y0)*N.y + (-p_x*sin(theta) + p_y*sin(phi)*cos(theta) + p_z*cos(phi)*cos(theta) + z0)*N.z"
      ]
     },
     "execution_count": 13,
     "metadata": {},
     "output_type": "execute_result"
    }
   ],
   "source": [
    "vector = P.pos_from(M)\n",
    "motion_P = vector.express(N)\n",
    "motion_P"
   ]
  },
  {
   "cell_type": "code",
   "execution_count": 14,
   "metadata": {},
   "outputs": [
    {
     "data": {
      "text/latex": [
       "$\\displaystyle \\left[\\begin{matrix}p_{x} \\cos{\\left(\\psi{\\left(t \\right)} \\right)} \\cos{\\left(\\theta{\\left(t \\right)} \\right)} + p_{y} \\left(\\sin{\\left(\\phi{\\left(t \\right)} \\right)} \\sin{\\left(\\theta{\\left(t \\right)} \\right)} \\cos{\\left(\\psi{\\left(t \\right)} \\right)} - \\sin{\\left(\\psi{\\left(t \\right)} \\right)} \\cos{\\left(\\phi{\\left(t \\right)} \\right)}\\right) + p_{z} \\left(\\sin{\\left(\\phi{\\left(t \\right)} \\right)} \\sin{\\left(\\psi{\\left(t \\right)} \\right)} + \\sin{\\left(\\theta{\\left(t \\right)} \\right)} \\cos{\\left(\\phi{\\left(t \\right)} \\right)} \\cos{\\left(\\psi{\\left(t \\right)} \\right)}\\right) + \\operatorname{x_{0}}{\\left(t \\right)}\\\\p_{x} \\sin{\\left(\\psi{\\left(t \\right)} \\right)} \\cos{\\left(\\theta{\\left(t \\right)} \\right)} + p_{y} \\left(\\sin{\\left(\\phi{\\left(t \\right)} \\right)} \\sin{\\left(\\psi{\\left(t \\right)} \\right)} \\sin{\\left(\\theta{\\left(t \\right)} \\right)} + \\cos{\\left(\\phi{\\left(t \\right)} \\right)} \\cos{\\left(\\psi{\\left(t \\right)} \\right)}\\right) + p_{z} \\left(- \\sin{\\left(\\phi{\\left(t \\right)} \\right)} \\cos{\\left(\\psi{\\left(t \\right)} \\right)} + \\sin{\\left(\\psi{\\left(t \\right)} \\right)} \\sin{\\left(\\theta{\\left(t \\right)} \\right)} \\cos{\\left(\\phi{\\left(t \\right)} \\right)}\\right) + \\operatorname{y_{0}}{\\left(t \\right)}\\\\- p_{x} \\sin{\\left(\\theta{\\left(t \\right)} \\right)} + p_{y} \\sin{\\left(\\phi{\\left(t \\right)} \\right)} \\cos{\\left(\\theta{\\left(t \\right)} \\right)} + p_{z} \\cos{\\left(\\phi{\\left(t \\right)} \\right)} \\cos{\\left(\\theta{\\left(t \\right)} \\right)} + \\operatorname{z_{0}}{\\left(t \\right)}\\end{matrix}\\right]$"
      ],
      "text/plain": [
       "Matrix([\n",
       "[ p_x*cos(psi(t))*cos(theta(t)) + p_y*(sin(phi(t))*sin(theta(t))*cos(psi(t)) - sin(psi(t))*cos(phi(t))) + p_z*(sin(phi(t))*sin(psi(t)) + sin(theta(t))*cos(phi(t))*cos(psi(t))) + x0(t)],\n",
       "[p_x*sin(psi(t))*cos(theta(t)) + p_y*(sin(phi(t))*sin(psi(t))*sin(theta(t)) + cos(phi(t))*cos(psi(t))) + p_z*(-sin(phi(t))*cos(psi(t)) + sin(psi(t))*sin(theta(t))*cos(phi(t))) + y0(t)],\n",
       "[                                                                                            -p_x*sin(theta(t)) + p_y*sin(phi(t))*cos(theta(t)) + p_z*cos(phi(t))*cos(theta(t)) + z0(t)]])"
      ]
     },
     "execution_count": 14,
     "metadata": {},
     "output_type": "execute_result"
    }
   ],
   "source": [
    "motion_matrix = vector.to_matrix(N)\n",
    "motion_matrix"
   ]
  },
  {
   "cell_type": "code",
   "execution_count": 15,
   "metadata": {},
   "outputs": [],
   "source": [
    "motion_lambda = lambdify(motion_matrix)"
   ]
  },
  {
   "cell_type": "code",
   "execution_count": 16,
   "metadata": {},
   "outputs": [
    {
     "data": {
      "text/plain": [
       "<function _lambdifygenerated(p_x, p_y, p_z, phi, psi, theta, x0, y0, z0)>"
      ]
     },
     "execution_count": 16,
     "metadata": {},
     "output_type": "execute_result"
    }
   ],
   "source": [
    "motion_lambda"
   ]
  },
  {
   "cell_type": "code",
   "execution_count": 17,
   "metadata": {},
   "outputs": [
    {
     "data": {
      "text/plain": [
       "<matplotlib.axes._subplots.AxesSubplot at 0xebf5df0>"
      ]
     },
     "execution_count": 17,
     "metadata": {},
     "output_type": "execute_result"
    },
    {
     "data": {
      "image/png": "[encoded data removed]",
      "text/plain": [
       "<Figure size 432x288 with 1 Axes>"
      ]
     },
     "metadata": {
      "needs_background": "light"
     },
     "output_type": "display_data"
    },
    {
     "data": {
      "image/png": "[encoded data removed]",
      "text/plain": [
       "<Figure size 432x288 with 1 Axes>"
      ]
     },
     "metadata": {
      "needs_background": "light"
     },
     "output_type": "display_data"
    }
   ],
   "source": [
    "number_of_points = 100\n",
    "t = np.linspace(0,2*np.pi,number_of_points)\n",
    "df = pd.DataFrame(index = t)\n",
    "df['phi'] = 0\n",
    "df['theta'] = np.sin(t)\n",
    "df['psi'] = 0\n",
    "\n",
    "df['p_x'] = 20\n",
    "df['p_y'] = 0\n",
    "df['p_z'] = 1\n",
    "\n",
    "df['x0'] = np.sin(t)\n",
    "df['y0'] = np.sin(t)\n",
    "df['z0'] = -np.sin(t)\n",
    "motions = motion_lambda(**df)\n",
    "\n",
    "df_result = df.copy()\n",
    "df_result['x'] = motions[0][0]\n",
    "df_result['y'] = motions[1][0]\n",
    "df_result['z'] = motions[2][0]\n",
    "\n",
    "fig,ax=plt.subplots()\n",
    "df_result.plot(y='x', ax=ax)\n",
    "\n",
    "fig,ax=plt.subplots()\n",
    "df_result.plot(y='z', ax=ax)\n"
   ]
  },
  {
   "cell_type": "markdown",
   "metadata": {},
   "source": [
    "## Velocity"
   ]
  },
  {
   "cell_type": "code",
   "execution_count": 18,
   "metadata": {},
   "outputs": [
    {
     "data": {
      "text/latex": [
       "$\\displaystyle \\dot{x}_{0}\\mathbf{\\hat{n}_x} + \\dot{y}_{0}\\mathbf{\\hat{n}_y} + \\dot{z}_{0}\\mathbf{\\hat{n}_z} + (- p_{y} \\left(- \\operatorname{sin}\\left(\\phi\\right) \\dot{\\theta} + \\operatorname{cos}\\left(\\phi\\right) \\operatorname{cos}\\left(\\theta\\right) \\dot{\\psi}\\right) + p_{z} \\left(\\operatorname{sin}\\left(\\phi\\right) \\operatorname{cos}\\left(\\theta\\right) \\dot{\\psi} + \\operatorname{cos}\\left(\\phi\\right) \\dot{\\theta}\\right))\\mathbf{\\hat{s}_x} + (p_{x} \\left(- \\operatorname{sin}\\left(\\phi\\right) \\dot{\\theta} + \\operatorname{cos}\\left(\\phi\\right) \\operatorname{cos}\\left(\\theta\\right) \\dot{\\psi}\\right) - p_{z} \\left(- \\operatorname{sin}\\left(\\theta\\right) \\dot{\\psi} + \\dot{\\phi}\\right))\\mathbf{\\hat{s}_y} + (- p_{x} \\left(\\operatorname{sin}\\left(\\phi\\right) \\operatorname{cos}\\left(\\theta\\right) \\dot{\\psi} + \\operatorname{cos}\\left(\\phi\\right) \\dot{\\theta}\\right) + p_{y} \\left(- \\operatorname{sin}\\left(\\theta\\right) \\dot{\\psi} + \\dot{\\phi}\\right))\\mathbf{\\hat{s}_z}$"
      ],
      "text/plain": [
       "x0'*N.x + y0'*N.y + z0'*N.z + (-p_y*(-sin(phi)*theta' + cos(phi)*cos(theta)*psi') + p_z*(sin(phi)*cos(theta)*psi' + cos(phi)*theta'))*S.x + (p_x*(-sin(phi)*theta' + cos(phi)*cos(theta)*psi') - p_z*(-sin(theta)*psi' + phi'))*S.y + (-p_x*(sin(phi)*cos(theta)*psi' + cos(phi)*theta') + p_y*(-sin(theta)*psi' + phi'))*S.z"
      ]
     },
     "execution_count": 18,
     "metadata": {},
     "output_type": "execute_result"
    }
   ],
   "source": [
    "P.v2pt_theory(O,N,S)"
   ]
  },
  {
   "cell_type": "code",
   "execution_count": 19,
   "metadata": {},
   "outputs": [
    {
     "data": {
      "text/latex": [
       "$\\displaystyle \\left[\\begin{matrix}\\left(p_{x} \\left(- \\sin{\\left(\\phi{\\left(t \\right)} \\right)} \\frac{d}{d t} \\theta{\\left(t \\right)} + \\cos{\\left(\\phi{\\left(t \\right)} \\right)} \\cos{\\left(\\theta{\\left(t \\right)} \\right)} \\frac{d}{d t} \\psi{\\left(t \\right)}\\right) - p_{z} \\left(- \\sin{\\left(\\theta{\\left(t \\right)} \\right)} \\frac{d}{d t} \\psi{\\left(t \\right)} + \\frac{d}{d t} \\phi{\\left(t \\right)}\\right)\\right) \\left(\\sin{\\left(\\phi{\\left(t \\right)} \\right)} \\sin{\\left(\\theta{\\left(t \\right)} \\right)} \\cos{\\left(\\psi{\\left(t \\right)} \\right)} - \\sin{\\left(\\psi{\\left(t \\right)} \\right)} \\cos{\\left(\\phi{\\left(t \\right)} \\right)}\\right) + \\left(- p_{x} \\left(\\sin{\\left(\\phi{\\left(t \\right)} \\right)} \\cos{\\left(\\theta{\\left(t \\right)} \\right)} \\frac{d}{d t} \\psi{\\left(t \\right)} + \\cos{\\left(\\phi{\\left(t \\right)} \\right)} \\frac{d}{d t} \\theta{\\left(t \\right)}\\right) + p_{y} \\left(- \\sin{\\left(\\theta{\\left(t \\right)} \\right)} \\frac{d}{d t} \\psi{\\left(t \\right)} + \\frac{d}{d t} \\phi{\\left(t \\right)}\\right)\\right) \\left(\\sin{\\left(\\phi{\\left(t \\right)} \\right)} \\sin{\\left(\\psi{\\left(t \\right)} \\right)} + \\sin{\\left(\\theta{\\left(t \\right)} \\right)} \\cos{\\left(\\phi{\\left(t \\right)} \\right)} \\cos{\\left(\\psi{\\left(t \\right)} \\right)}\\right) + \\left(- p_{y} \\left(- \\sin{\\left(\\phi{\\left(t \\right)} \\right)} \\frac{d}{d t} \\theta{\\left(t \\right)} + \\cos{\\left(\\phi{\\left(t \\right)} \\right)} \\cos{\\left(\\theta{\\left(t \\right)} \\right)} \\frac{d}{d t} \\psi{\\left(t \\right)}\\right) + p_{z} \\left(\\sin{\\left(\\phi{\\left(t \\right)} \\right)} \\cos{\\left(\\theta{\\left(t \\right)} \\right)} \\frac{d}{d t} \\psi{\\left(t \\right)} + \\cos{\\left(\\phi{\\left(t \\right)} \\right)} \\frac{d}{d t} \\theta{\\left(t \\right)}\\right)\\right) \\cos{\\left(\\psi{\\left(t \\right)} \\right)} \\cos{\\left(\\theta{\\left(t \\right)} \\right)} + \\frac{d}{d t} \\operatorname{x_{0}}{\\left(t \\right)}\\\\\\left(p_{x} \\left(- \\sin{\\left(\\phi{\\left(t \\right)} \\right)} \\frac{d}{d t} \\theta{\\left(t \\right)} + \\cos{\\left(\\phi{\\left(t \\right)} \\right)} \\cos{\\left(\\theta{\\left(t \\right)} \\right)} \\frac{d}{d t} \\psi{\\left(t \\right)}\\right) - p_{z} \\left(- \\sin{\\left(\\theta{\\left(t \\right)} \\right)} \\frac{d}{d t} \\psi{\\left(t \\right)} + \\frac{d}{d t} \\phi{\\left(t \\right)}\\right)\\right) \\left(\\sin{\\left(\\phi{\\left(t \\right)} \\right)} \\sin{\\left(\\psi{\\left(t \\right)} \\right)} \\sin{\\left(\\theta{\\left(t \\right)} \\right)} + \\cos{\\left(\\phi{\\left(t \\right)} \\right)} \\cos{\\left(\\psi{\\left(t \\right)} \\right)}\\right) + \\left(- p_{x} \\left(\\sin{\\left(\\phi{\\left(t \\right)} \\right)} \\cos{\\left(\\theta{\\left(t \\right)} \\right)} \\frac{d}{d t} \\psi{\\left(t \\right)} + \\cos{\\left(\\phi{\\left(t \\right)} \\right)} \\frac{d}{d t} \\theta{\\left(t \\right)}\\right) + p_{y} \\left(- \\sin{\\left(\\theta{\\left(t \\right)} \\right)} \\frac{d}{d t} \\psi{\\left(t \\right)} + \\frac{d}{d t} \\phi{\\left(t \\right)}\\right)\\right) \\left(- \\sin{\\left(\\phi{\\left(t \\right)} \\right)} \\cos{\\left(\\psi{\\left(t \\right)} \\right)} + \\sin{\\left(\\psi{\\left(t \\right)} \\right)} \\sin{\\left(\\theta{\\left(t \\right)} \\right)} \\cos{\\left(\\phi{\\left(t \\right)} \\right)}\\right) + \\left(- p_{y} \\left(- \\sin{\\left(\\phi{\\left(t \\right)} \\right)} \\frac{d}{d t} \\theta{\\left(t \\right)} + \\cos{\\left(\\phi{\\left(t \\right)} \\right)} \\cos{\\left(\\theta{\\left(t \\right)} \\right)} \\frac{d}{d t} \\psi{\\left(t \\right)}\\right) + p_{z} \\left(\\sin{\\left(\\phi{\\left(t \\right)} \\right)} \\cos{\\left(\\theta{\\left(t \\right)} \\right)} \\frac{d}{d t} \\psi{\\left(t \\right)} + \\cos{\\left(\\phi{\\left(t \\right)} \\right)} \\frac{d}{d t} \\theta{\\left(t \\right)}\\right)\\right) \\sin{\\left(\\psi{\\left(t \\right)} \\right)} \\cos{\\left(\\theta{\\left(t \\right)} \\right)} + \\frac{d}{d t} \\operatorname{y_{0}}{\\left(t \\right)}\\\\\\left(p_{x} \\left(- \\sin{\\left(\\phi{\\left(t \\right)} \\right)} \\frac{d}{d t} \\theta{\\left(t \\right)} + \\cos{\\left(\\phi{\\left(t \\right)} \\right)} \\cos{\\left(\\theta{\\left(t \\right)} \\right)} \\frac{d}{d t} \\psi{\\left(t \\right)}\\right) - p_{z} \\left(- \\sin{\\left(\\theta{\\left(t \\right)} \\right)} \\frac{d}{d t} \\psi{\\left(t \\right)} + \\frac{d}{d t} \\phi{\\left(t \\right)}\\right)\\right) \\sin{\\left(\\phi{\\left(t \\right)} \\right)} \\cos{\\left(\\theta{\\left(t \\right)} \\right)} + \\left(- p_{x} \\left(\\sin{\\left(\\phi{\\left(t \\right)} \\right)} \\cos{\\left(\\theta{\\left(t \\right)} \\right)} \\frac{d}{d t} \\psi{\\left(t \\right)} + \\cos{\\left(\\phi{\\left(t \\right)} \\right)} \\frac{d}{d t} \\theta{\\left(t \\right)}\\right) + p_{y} \\left(- \\sin{\\left(\\theta{\\left(t \\right)} \\right)} \\frac{d}{d t} \\psi{\\left(t \\right)} + \\frac{d}{d t} \\phi{\\left(t \\right)}\\right)\\right) \\cos{\\left(\\phi{\\left(t \\right)} \\right)} \\cos{\\left(\\theta{\\left(t \\right)} \\right)} - \\left(- p_{y} \\left(- \\sin{\\left(\\phi{\\left(t \\right)} \\right)} \\frac{d}{d t} \\theta{\\left(t \\right)} + \\cos{\\left(\\phi{\\left(t \\right)} \\right)} \\cos{\\left(\\theta{\\left(t \\right)} \\right)} \\frac{d}{d t} \\psi{\\left(t \\right)}\\right) + p_{z} \\left(\\sin{\\left(\\phi{\\left(t \\right)} \\right)} \\cos{\\left(\\theta{\\left(t \\right)} \\right)} \\frac{d}{d t} \\psi{\\left(t \\right)} + \\cos{\\left(\\phi{\\left(t \\right)} \\right)} \\frac{d}{d t} \\theta{\\left(t \\right)}\\right)\\right) \\sin{\\left(\\theta{\\left(t \\right)} \\right)} + \\frac{d}{d t} \\operatorname{z_{0}}{\\left(t \\right)}\\end{matrix}\\right]$"
      ],
      "text/plain": [
       "Matrix([\n",
       "[ (p_x*(-sin(phi(t))*Derivative(theta(t), t) + cos(phi(t))*cos(theta(t))*Derivative(psi(t), t)) - p_z*(-sin(theta(t))*Derivative(psi(t), t) + Derivative(phi(t), t)))*(sin(phi(t))*sin(theta(t))*cos(psi(t)) - sin(psi(t))*cos(phi(t))) + (-p_x*(sin(phi(t))*cos(theta(t))*Derivative(psi(t), t) + cos(phi(t))*Derivative(theta(t), t)) + p_y*(-sin(theta(t))*Derivative(psi(t), t) + Derivative(phi(t), t)))*(sin(phi(t))*sin(psi(t)) + sin(theta(t))*cos(phi(t))*cos(psi(t))) + (-p_y*(-sin(phi(t))*Derivative(theta(t), t) + cos(phi(t))*cos(theta(t))*Derivative(psi(t), t)) + p_z*(sin(phi(t))*cos(theta(t))*Derivative(psi(t), t) + cos(phi(t))*Derivative(theta(t), t)))*cos(psi(t))*cos(theta(t)) + Derivative(x0(t), t)],\n",
       "[(p_x*(-sin(phi(t))*Derivative(theta(t), t) + cos(phi(t))*cos(theta(t))*Derivative(psi(t), t)) - p_z*(-sin(theta(t))*Derivative(psi(t), t) + Derivative(phi(t), t)))*(sin(phi(t))*sin(psi(t))*sin(theta(t)) + cos(phi(t))*cos(psi(t))) + (-p_x*(sin(phi(t))*cos(theta(t))*Derivative(psi(t), t) + cos(phi(t))*Derivative(theta(t), t)) + p_y*(-sin(theta(t))*Derivative(psi(t), t) + Derivative(phi(t), t)))*(-sin(phi(t))*cos(psi(t)) + sin(psi(t))*sin(theta(t))*cos(phi(t))) + (-p_y*(-sin(phi(t))*Derivative(theta(t), t) + cos(phi(t))*cos(theta(t))*Derivative(psi(t), t)) + p_z*(sin(phi(t))*cos(theta(t))*Derivative(psi(t), t) + cos(phi(t))*Derivative(theta(t), t)))*sin(psi(t))*cos(theta(t)) + Derivative(y0(t), t)],\n",
       "[                                                                                             (p_x*(-sin(phi(t))*Derivative(theta(t), t) + cos(phi(t))*cos(theta(t))*Derivative(psi(t), t)) - p_z*(-sin(theta(t))*Derivative(psi(t), t) + Derivative(phi(t), t)))*sin(phi(t))*cos(theta(t)) + (-p_x*(sin(phi(t))*cos(theta(t))*Derivative(psi(t), t) + cos(phi(t))*Derivative(theta(t), t)) + p_y*(-sin(theta(t))*Derivative(psi(t), t) + Derivative(phi(t), t)))*cos(phi(t))*cos(theta(t)) - (-p_y*(-sin(phi(t))*Derivative(theta(t), t) + cos(phi(t))*cos(theta(t))*Derivative(psi(t), t)) + p_z*(sin(phi(t))*cos(theta(t))*Derivative(psi(t), t) + cos(phi(t))*Derivative(theta(t), t)))*sin(theta(t)) + Derivative(z0(t), t)]])"
      ]
     },
     "execution_count": 19,
     "metadata": {},
     "output_type": "execute_result"
    }
   ],
   "source": [
    "velocity_matrix = P.vel(N).express(N).to_matrix(N)\n",
    "velocity_matrix"
   ]
  },
  {
   "cell_type": "code",
   "execution_count": 20,
   "metadata": {},
   "outputs": [],
   "source": [
    "velocity_lambda = lambdify(velocity_matrix)"
   ]
  },
  {
   "cell_type": "code",
   "execution_count": 21,
   "metadata": {},
   "outputs": [
    {
     "data": {
      "text/plain": [
       "<function _lambdifygenerated(p_x, p_y, p_z, phi, phi1d, psi, psi1d, theta, theta1d, x01d, y01d, z01d)>"
      ]
     },
     "execution_count": 21,
     "metadata": {},
     "output_type": "execute_result"
    }
   ],
   "source": [
    "velocity_lambda"
   ]
  },
  {
   "cell_type": "code",
   "execution_count": 22,
   "metadata": {},
   "outputs": [
    {
     "data": {
      "text/plain": [
       "<matplotlib.axes._subplots.AxesSubplot at 0xd21ca90>"
      ]
     },
     "execution_count": 22,
     "metadata": {},
     "output_type": "execute_result"
    },
    {
     "data": {
      "image/png": "[encoded data removed]",
      "text/plain": [
       "<Figure size 432x288 with 1 Axes>"
      ]
     },
     "metadata": {
      "needs_background": "light"
     },
     "output_type": "display_data"
    },
    {
     "data": {
      "image/png": "[encoded data removed]",
      "text/plain": [
       "<Figure size 432x288 with 1 Axes>"
      ]
     },
     "metadata": {
      "needs_background": "light"
     },
     "output_type": "display_data"
    }
   ],
   "source": [
    "number_of_points = 100\n",
    "t = np.linspace(0,2*np.pi,number_of_points)\n",
    "df = pd.DataFrame(index = t)\n",
    "df['phi'] = 0\n",
    "df['theta'] = np.sin(t)\n",
    "df['psi'] = 0\n",
    "\n",
    "df['phi1d'] = 0\n",
    "df['theta1d'] = np.cos(t)\n",
    "df['psi1d'] = 0\n",
    "\n",
    "df['p_x'] = 20\n",
    "df['p_y'] = 0\n",
    "df['p_z'] = 1\n",
    "\n",
    "df['x01d'] = 10\n",
    "df['y01d'] = 0\n",
    "df['z01d'] = 0\n",
    "\n",
    "\n",
    "velocities = velocity_lambda(**df)\n",
    "\n",
    "df_result = df.copy()\n",
    "df_result['x01d'] = velocities[0][0]\n",
    "df_result['y01d'] = velocities[1][0]\n",
    "df_result['z01d'] = velocities[2][0]\n",
    "\n",
    "fig,ax=plt.subplots()\n",
    "df_result.plot(y='x01d', ax=ax)\n",
    "\n",
    "fig,ax=plt.subplots()\n",
    "df_result.plot(y='z01d', ax=ax)"
   ]
  },
  {
   "cell_type": "markdown",
   "metadata": {},
   "source": [
    "## Acceleration"
   ]
  },
  {
   "cell_type": "code",
   "execution_count": 23,
   "metadata": {},
   "outputs": [
    {
     "data": {
      "text/latex": [
       "$\\displaystyle \\ddot{x}_{0}\\mathbf{\\hat{n}_x} + \\ddot{y}_{0}\\mathbf{\\hat{n}_y} + \\ddot{z}_{0}\\mathbf{\\hat{n}_z} + (- p_{y} \\left(- \\operatorname{sin}\\left(\\phi\\right) \\operatorname{cos}\\left(\\theta\\right) \\dot{\\phi} \\dot{\\psi} - \\operatorname{sin}\\left(\\phi\\right) \\ddot{\\theta} - \\operatorname{sin}\\left(\\theta\\right) \\operatorname{cos}\\left(\\phi\\right) \\dot{\\psi} \\dot{\\theta} + \\operatorname{cos}\\left(\\phi\\right) \\operatorname{cos}\\left(\\theta\\right) \\ddot{\\psi} - \\operatorname{cos}\\left(\\phi\\right) \\dot{\\phi} \\dot{\\theta}\\right) + p_{z} \\left(- \\operatorname{sin}\\left(\\phi\\right) \\operatorname{sin}\\left(\\theta\\right) \\dot{\\psi} \\dot{\\theta} + \\operatorname{sin}\\left(\\phi\\right) \\operatorname{cos}\\left(\\theta\\right) \\ddot{\\psi} - \\operatorname{sin}\\left(\\phi\\right) \\dot{\\phi} \\dot{\\theta} + \\operatorname{cos}\\left(\\phi\\right) \\operatorname{cos}\\left(\\theta\\right) \\dot{\\phi} \\dot{\\psi} + \\operatorname{cos}\\left(\\phi\\right) \\ddot{\\theta}\\right) - \\left(p_{x} \\left(- \\operatorname{sin}\\left(\\phi\\right) \\dot{\\theta} + \\operatorname{cos}\\left(\\phi\\right) \\operatorname{cos}\\left(\\theta\\right) \\dot{\\psi}\\right) - p_{z} \\left(- \\operatorname{sin}\\left(\\theta\\right) \\dot{\\psi} + \\dot{\\phi}\\right)\\right) \\left(- \\operatorname{sin}\\left(\\phi\\right) \\dot{\\theta} + \\operatorname{cos}\\left(\\phi\\right) \\operatorname{cos}\\left(\\theta\\right) \\dot{\\psi}\\right) + \\left(- p_{x} \\left(\\operatorname{sin}\\left(\\phi\\right) \\operatorname{cos}\\left(\\theta\\right) \\dot{\\psi} + \\operatorname{cos}\\left(\\phi\\right) \\dot{\\theta}\\right) + p_{y} \\left(- \\operatorname{sin}\\left(\\theta\\right) \\dot{\\psi} + \\dot{\\phi}\\right)\\right) \\left(\\operatorname{sin}\\left(\\phi\\right) \\operatorname{cos}\\left(\\theta\\right) \\dot{\\psi} + \\operatorname{cos}\\left(\\phi\\right) \\dot{\\theta}\\right))\\mathbf{\\hat{s}_x} + (p_{x} \\left(- \\operatorname{sin}\\left(\\phi\\right) \\operatorname{cos}\\left(\\theta\\right) \\dot{\\phi} \\dot{\\psi} - \\operatorname{sin}\\left(\\phi\\right) \\ddot{\\theta} - \\operatorname{sin}\\left(\\theta\\right) \\operatorname{cos}\\left(\\phi\\right) \\dot{\\psi} \\dot{\\theta} + \\operatorname{cos}\\left(\\phi\\right) \\operatorname{cos}\\left(\\theta\\right) \\ddot{\\psi} - \\operatorname{cos}\\left(\\phi\\right) \\dot{\\phi} \\dot{\\theta}\\right) - p_{z} \\left(- \\operatorname{sin}\\left(\\theta\\right) \\ddot{\\psi} - \\operatorname{cos}\\left(\\theta\\right) \\dot{\\psi} \\dot{\\theta} + \\ddot{\\phi}\\right) - \\left(- p_{x} \\left(\\operatorname{sin}\\left(\\phi\\right) \\operatorname{cos}\\left(\\theta\\right) \\dot{\\psi} + \\operatorname{cos}\\left(\\phi\\right) \\dot{\\theta}\\right) + p_{y} \\left(- \\operatorname{sin}\\left(\\theta\\right) \\dot{\\psi} + \\dot{\\phi}\\right)\\right) \\left(- \\operatorname{sin}\\left(\\theta\\right) \\dot{\\psi} + \\dot{\\phi}\\right) + \\left(- p_{y} \\left(- \\operatorname{sin}\\left(\\phi\\right) \\dot{\\theta} + \\operatorname{cos}\\left(\\phi\\right) \\operatorname{cos}\\left(\\theta\\right) \\dot{\\psi}\\right) + p_{z} \\left(\\operatorname{sin}\\left(\\phi\\right) \\operatorname{cos}\\left(\\theta\\right) \\dot{\\psi} + \\operatorname{cos}\\left(\\phi\\right) \\dot{\\theta}\\right)\\right) \\left(- \\operatorname{sin}\\left(\\phi\\right) \\dot{\\theta} + \\operatorname{cos}\\left(\\phi\\right) \\operatorname{cos}\\left(\\theta\\right) \\dot{\\psi}\\right))\\mathbf{\\hat{s}_y} + (- p_{x} \\left(- \\operatorname{sin}\\left(\\phi\\right) \\operatorname{sin}\\left(\\theta\\right) \\dot{\\psi} \\dot{\\theta} + \\operatorname{sin}\\left(\\phi\\right) \\operatorname{cos}\\left(\\theta\\right) \\ddot{\\psi} - \\operatorname{sin}\\left(\\phi\\right) \\dot{\\phi} \\dot{\\theta} + \\operatorname{cos}\\left(\\phi\\right) \\operatorname{cos}\\left(\\theta\\right) \\dot{\\phi} \\dot{\\psi} + \\operatorname{cos}\\left(\\phi\\right) \\ddot{\\theta}\\right) + p_{y} \\left(- \\operatorname{sin}\\left(\\theta\\right) \\ddot{\\psi} - \\operatorname{cos}\\left(\\theta\\right) \\dot{\\psi} \\dot{\\theta} + \\ddot{\\phi}\\right) + \\left(p_{x} \\left(- \\operatorname{sin}\\left(\\phi\\right) \\dot{\\theta} + \\operatorname{cos}\\left(\\phi\\right) \\operatorname{cos}\\left(\\theta\\right) \\dot{\\psi}\\right) - p_{z} \\left(- \\operatorname{sin}\\left(\\theta\\right) \\dot{\\psi} + \\dot{\\phi}\\right)\\right) \\left(- \\operatorname{sin}\\left(\\theta\\right) \\dot{\\psi} + \\dot{\\phi}\\right) - \\left(- p_{y} \\left(- \\operatorname{sin}\\left(\\phi\\right) \\dot{\\theta} + \\operatorname{cos}\\left(\\phi\\right) \\operatorname{cos}\\left(\\theta\\right) \\dot{\\psi}\\right) + p_{z} \\left(\\operatorname{sin}\\left(\\phi\\right) \\operatorname{cos}\\left(\\theta\\right) \\dot{\\psi} + \\operatorname{cos}\\left(\\phi\\right) \\dot{\\theta}\\right)\\right) \\left(\\operatorname{sin}\\left(\\phi\\right) \\operatorname{cos}\\left(\\theta\\right) \\dot{\\psi} + \\operatorname{cos}\\left(\\phi\\right) \\dot{\\theta}\\right))\\mathbf{\\hat{s}_z}$"
      ],
      "text/plain": [
       "x0''*N.x + y0''*N.y + z0''*N.z + (-p_y*(-sin(phi)*cos(theta)*phi'*psi' - sin(phi)*theta'' - sin(theta)*cos(phi)*psi'*theta' + cos(phi)*cos(theta)*psi'' - cos(phi)*phi'*theta') + p_z*(-sin(phi)*sin(theta)*psi'*theta' + sin(phi)*cos(theta)*psi'' - sin(phi)*phi'*theta' + cos(phi)*cos(theta)*phi'*psi' + cos(phi)*theta'') - (p_x*(-sin(phi)*theta' + cos(phi)*cos(theta)*psi') - p_z*(-sin(theta)*psi' + phi'))*(-sin(phi)*theta' + cos(phi)*cos(theta)*psi') + (-p_x*(sin(phi)*cos(theta)*psi' + cos(phi)*theta') + p_y*(-sin(theta)*psi' + phi'))*(sin(phi)*cos(theta)*psi' + cos(phi)*theta'))*S.x + (p_x*(-sin(phi)*cos(theta)*phi'*psi' - sin(phi)*theta'' - sin(theta)*cos(phi)*psi'*theta' + cos(phi)*cos(theta)*psi'' - cos(phi)*phi'*theta') - p_z*(-sin(theta)*psi'' - cos(theta)*psi'*theta' + phi'') - (-p_x*(sin(phi)*cos(theta)*psi' + cos(phi)*theta') + p_y*(-sin(theta)*psi' + phi'))*(-sin(theta)*psi' + phi') + (-p_y*(-sin(phi)*theta' + cos(phi)*cos(theta)*psi') + p_z*(sin(phi)*cos(theta)*psi' + cos(phi)*theta'))*(-sin(phi)*theta' + cos(phi)*cos(theta)*psi'))*S.y + (-p_x*(-sin(phi)*sin(theta)*psi'*theta' + sin(phi)*cos(theta)*psi'' - sin(phi)*phi'*theta' + cos(phi)*cos(theta)*phi'*psi' + cos(phi)*theta'') + p_y*(-sin(theta)*psi'' - cos(theta)*psi'*theta' + phi'') + (p_x*(-sin(phi)*theta' + cos(phi)*cos(theta)*psi') - p_z*(-sin(theta)*psi' + phi'))*(-sin(theta)*psi' + phi') - (-p_y*(-sin(phi)*theta' + cos(phi)*cos(theta)*psi') + p_z*(sin(phi)*cos(theta)*psi' + cos(phi)*theta'))*(sin(phi)*cos(theta)*psi' + cos(phi)*theta'))*S.z"
      ]
     },
     "execution_count": 23,
     "metadata": {},
     "output_type": "execute_result"
    }
   ],
   "source": [
    "P.a2pt_theory(O,N,S)"
   ]
  },
  {
   "cell_type": "markdown",
   "metadata": {},
   "source": [
    "### Acceleration in earth fixed reference frame N expressed in ship Reference frame S"
   ]
  },
  {
   "cell_type": "code",
   "execution_count": 24,
   "metadata": {},
   "outputs": [
    {
     "data": {
      "text/latex": [
       "$\\displaystyle \\left[\\begin{matrix}- p_{y} \\left(- \\sin{\\left(\\phi{\\left(t \\right)} \\right)} \\cos{\\left(\\theta{\\left(t \\right)} \\right)} \\frac{d}{d t} \\phi{\\left(t \\right)} \\frac{d}{d t} \\psi{\\left(t \\right)} - \\sin{\\left(\\phi{\\left(t \\right)} \\right)} \\frac{d^{2}}{d t^{2}} \\theta{\\left(t \\right)} - \\sin{\\left(\\theta{\\left(t \\right)} \\right)} \\cos{\\left(\\phi{\\left(t \\right)} \\right)} \\frac{d}{d t} \\psi{\\left(t \\right)} \\frac{d}{d t} \\theta{\\left(t \\right)} + \\cos{\\left(\\phi{\\left(t \\right)} \\right)} \\cos{\\left(\\theta{\\left(t \\right)} \\right)} \\frac{d^{2}}{d t^{2}} \\psi{\\left(t \\right)} - \\cos{\\left(\\phi{\\left(t \\right)} \\right)} \\frac{d}{d t} \\phi{\\left(t \\right)} \\frac{d}{d t} \\theta{\\left(t \\right)}\\right) + p_{z} \\left(- \\sin{\\left(\\phi{\\left(t \\right)} \\right)} \\sin{\\left(\\theta{\\left(t \\right)} \\right)} \\frac{d}{d t} \\psi{\\left(t \\right)} \\frac{d}{d t} \\theta{\\left(t \\right)} + \\sin{\\left(\\phi{\\left(t \\right)} \\right)} \\cos{\\left(\\theta{\\left(t \\right)} \\right)} \\frac{d^{2}}{d t^{2}} \\psi{\\left(t \\right)} - \\sin{\\left(\\phi{\\left(t \\right)} \\right)} \\frac{d}{d t} \\phi{\\left(t \\right)} \\frac{d}{d t} \\theta{\\left(t \\right)} + \\cos{\\left(\\phi{\\left(t \\right)} \\right)} \\cos{\\left(\\theta{\\left(t \\right)} \\right)} \\frac{d}{d t} \\phi{\\left(t \\right)} \\frac{d}{d t} \\psi{\\left(t \\right)} + \\cos{\\left(\\phi{\\left(t \\right)} \\right)} \\frac{d^{2}}{d t^{2}} \\theta{\\left(t \\right)}\\right) - \\left(p_{x} \\left(- \\sin{\\left(\\phi{\\left(t \\right)} \\right)} \\frac{d}{d t} \\theta{\\left(t \\right)} + \\cos{\\left(\\phi{\\left(t \\right)} \\right)} \\cos{\\left(\\theta{\\left(t \\right)} \\right)} \\frac{d}{d t} \\psi{\\left(t \\right)}\\right) - p_{z} \\left(- \\sin{\\left(\\theta{\\left(t \\right)} \\right)} \\frac{d}{d t} \\psi{\\left(t \\right)} + \\frac{d}{d t} \\phi{\\left(t \\right)}\\right)\\right) \\left(- \\sin{\\left(\\phi{\\left(t \\right)} \\right)} \\frac{d}{d t} \\theta{\\left(t \\right)} + \\cos{\\left(\\phi{\\left(t \\right)} \\right)} \\cos{\\left(\\theta{\\left(t \\right)} \\right)} \\frac{d}{d t} \\psi{\\left(t \\right)}\\right) + \\left(- p_{x} \\left(\\sin{\\left(\\phi{\\left(t \\right)} \\right)} \\cos{\\left(\\theta{\\left(t \\right)} \\right)} \\frac{d}{d t} \\psi{\\left(t \\right)} + \\cos{\\left(\\phi{\\left(t \\right)} \\right)} \\frac{d}{d t} \\theta{\\left(t \\right)}\\right) + p_{y} \\left(- \\sin{\\left(\\theta{\\left(t \\right)} \\right)} \\frac{d}{d t} \\psi{\\left(t \\right)} + \\frac{d}{d t} \\phi{\\left(t \\right)}\\right)\\right) \\left(\\sin{\\left(\\phi{\\left(t \\right)} \\right)} \\cos{\\left(\\theta{\\left(t \\right)} \\right)} \\frac{d}{d t} \\psi{\\left(t \\right)} + \\cos{\\left(\\phi{\\left(t \\right)} \\right)} \\frac{d}{d t} \\theta{\\left(t \\right)}\\right) + \\sin{\\left(\\psi{\\left(t \\right)} \\right)} \\cos{\\left(\\theta{\\left(t \\right)} \\right)} \\frac{d^{2}}{d t^{2}} \\operatorname{y_{0}}{\\left(t \\right)} - \\sin{\\left(\\theta{\\left(t \\right)} \\right)} \\frac{d^{2}}{d t^{2}} \\operatorname{z_{0}}{\\left(t \\right)} + \\cos{\\left(\\psi{\\left(t \\right)} \\right)} \\cos{\\left(\\theta{\\left(t \\right)} \\right)} \\frac{d^{2}}{d t^{2}} \\operatorname{x_{0}}{\\left(t \\right)}\\\\p_{x} \\left(- \\sin{\\left(\\phi{\\left(t \\right)} \\right)} \\cos{\\left(\\theta{\\left(t \\right)} \\right)} \\frac{d}{d t} \\phi{\\left(t \\right)} \\frac{d}{d t} \\psi{\\left(t \\right)} - \\sin{\\left(\\phi{\\left(t \\right)} \\right)} \\frac{d^{2}}{d t^{2}} \\theta{\\left(t \\right)} - \\sin{\\left(\\theta{\\left(t \\right)} \\right)} \\cos{\\left(\\phi{\\left(t \\right)} \\right)} \\frac{d}{d t} \\psi{\\left(t \\right)} \\frac{d}{d t} \\theta{\\left(t \\right)} + \\cos{\\left(\\phi{\\left(t \\right)} \\right)} \\cos{\\left(\\theta{\\left(t \\right)} \\right)} \\frac{d^{2}}{d t^{2}} \\psi{\\left(t \\right)} - \\cos{\\left(\\phi{\\left(t \\right)} \\right)} \\frac{d}{d t} \\phi{\\left(t \\right)} \\frac{d}{d t} \\theta{\\left(t \\right)}\\right) - p_{z} \\left(- \\sin{\\left(\\theta{\\left(t \\right)} \\right)} \\frac{d^{2}}{d t^{2}} \\psi{\\left(t \\right)} - \\cos{\\left(\\theta{\\left(t \\right)} \\right)} \\frac{d}{d t} \\psi{\\left(t \\right)} \\frac{d}{d t} \\theta{\\left(t \\right)} + \\frac{d^{2}}{d t^{2}} \\phi{\\left(t \\right)}\\right) - \\left(- p_{x} \\left(\\sin{\\left(\\phi{\\left(t \\right)} \\right)} \\cos{\\left(\\theta{\\left(t \\right)} \\right)} \\frac{d}{d t} \\psi{\\left(t \\right)} + \\cos{\\left(\\phi{\\left(t \\right)} \\right)} \\frac{d}{d t} \\theta{\\left(t \\right)}\\right) + p_{y} \\left(- \\sin{\\left(\\theta{\\left(t \\right)} \\right)} \\frac{d}{d t} \\psi{\\left(t \\right)} + \\frac{d}{d t} \\phi{\\left(t \\right)}\\right)\\right) \\left(- \\sin{\\left(\\theta{\\left(t \\right)} \\right)} \\frac{d}{d t} \\psi{\\left(t \\right)} + \\frac{d}{d t} \\phi{\\left(t \\right)}\\right) + \\left(- p_{y} \\left(- \\sin{\\left(\\phi{\\left(t \\right)} \\right)} \\frac{d}{d t} \\theta{\\left(t \\right)} + \\cos{\\left(\\phi{\\left(t \\right)} \\right)} \\cos{\\left(\\theta{\\left(t \\right)} \\right)} \\frac{d}{d t} \\psi{\\left(t \\right)}\\right) + p_{z} \\left(\\sin{\\left(\\phi{\\left(t \\right)} \\right)} \\cos{\\left(\\theta{\\left(t \\right)} \\right)} \\frac{d}{d t} \\psi{\\left(t \\right)} + \\cos{\\left(\\phi{\\left(t \\right)} \\right)} \\frac{d}{d t} \\theta{\\left(t \\right)}\\right)\\right) \\left(- \\sin{\\left(\\phi{\\left(t \\right)} \\right)} \\frac{d}{d t} \\theta{\\left(t \\right)} + \\cos{\\left(\\phi{\\left(t \\right)} \\right)} \\cos{\\left(\\theta{\\left(t \\right)} \\right)} \\frac{d}{d t} \\psi{\\left(t \\right)}\\right) + \\left(\\sin{\\left(\\phi{\\left(t \\right)} \\right)} \\sin{\\left(\\psi{\\left(t \\right)} \\right)} \\sin{\\left(\\theta{\\left(t \\right)} \\right)} + \\cos{\\left(\\phi{\\left(t \\right)} \\right)} \\cos{\\left(\\psi{\\left(t \\right)} \\right)}\\right) \\frac{d^{2}}{d t^{2}} \\operatorname{y_{0}}{\\left(t \\right)} + \\left(\\sin{\\left(\\phi{\\left(t \\right)} \\right)} \\sin{\\left(\\theta{\\left(t \\right)} \\right)} \\cos{\\left(\\psi{\\left(t \\right)} \\right)} - \\sin{\\left(\\psi{\\left(t \\right)} \\right)} \\cos{\\left(\\phi{\\left(t \\right)} \\right)}\\right) \\frac{d^{2}}{d t^{2}} \\operatorname{x_{0}}{\\left(t \\right)} + \\sin{\\left(\\phi{\\left(t \\right)} \\right)} \\cos{\\left(\\theta{\\left(t \\right)} \\right)} \\frac{d^{2}}{d t^{2}} \\operatorname{z_{0}}{\\left(t \\right)}\\\\- p_{x} \\left(- \\sin{\\left(\\phi{\\left(t \\right)} \\right)} \\sin{\\left(\\theta{\\left(t \\right)} \\right)} \\frac{d}{d t} \\psi{\\left(t \\right)} \\frac{d}{d t} \\theta{\\left(t \\right)} + \\sin{\\left(\\phi{\\left(t \\right)} \\right)} \\cos{\\left(\\theta{\\left(t \\right)} \\right)} \\frac{d^{2}}{d t^{2}} \\psi{\\left(t \\right)} - \\sin{\\left(\\phi{\\left(t \\right)} \\right)} \\frac{d}{d t} \\phi{\\left(t \\right)} \\frac{d}{d t} \\theta{\\left(t \\right)} + \\cos{\\left(\\phi{\\left(t \\right)} \\right)} \\cos{\\left(\\theta{\\left(t \\right)} \\right)} \\frac{d}{d t} \\phi{\\left(t \\right)} \\frac{d}{d t} \\psi{\\left(t \\right)} + \\cos{\\left(\\phi{\\left(t \\right)} \\right)} \\frac{d^{2}}{d t^{2}} \\theta{\\left(t \\right)}\\right) + p_{y} \\left(- \\sin{\\left(\\theta{\\left(t \\right)} \\right)} \\frac{d^{2}}{d t^{2}} \\psi{\\left(t \\right)} - \\cos{\\left(\\theta{\\left(t \\right)} \\right)} \\frac{d}{d t} \\psi{\\left(t \\right)} \\frac{d}{d t} \\theta{\\left(t \\right)} + \\frac{d^{2}}{d t^{2}} \\phi{\\left(t \\right)}\\right) + \\left(p_{x} \\left(- \\sin{\\left(\\phi{\\left(t \\right)} \\right)} \\frac{d}{d t} \\theta{\\left(t \\right)} + \\cos{\\left(\\phi{\\left(t \\right)} \\right)} \\cos{\\left(\\theta{\\left(t \\right)} \\right)} \\frac{d}{d t} \\psi{\\left(t \\right)}\\right) - p_{z} \\left(- \\sin{\\left(\\theta{\\left(t \\right)} \\right)} \\frac{d}{d t} \\psi{\\left(t \\right)} + \\frac{d}{d t} \\phi{\\left(t \\right)}\\right)\\right) \\left(- \\sin{\\left(\\theta{\\left(t \\right)} \\right)} \\frac{d}{d t} \\psi{\\left(t \\right)} + \\frac{d}{d t} \\phi{\\left(t \\right)}\\right) - \\left(- p_{y} \\left(- \\sin{\\left(\\phi{\\left(t \\right)} \\right)} \\frac{d}{d t} \\theta{\\left(t \\right)} + \\cos{\\left(\\phi{\\left(t \\right)} \\right)} \\cos{\\left(\\theta{\\left(t \\right)} \\right)} \\frac{d}{d t} \\psi{\\left(t \\right)}\\right) + p_{z} \\left(\\sin{\\left(\\phi{\\left(t \\right)} \\right)} \\cos{\\left(\\theta{\\left(t \\right)} \\right)} \\frac{d}{d t} \\psi{\\left(t \\right)} + \\cos{\\left(\\phi{\\left(t \\right)} \\right)} \\frac{d}{d t} \\theta{\\left(t \\right)}\\right)\\right) \\left(\\sin{\\left(\\phi{\\left(t \\right)} \\right)} \\cos{\\left(\\theta{\\left(t \\right)} \\right)} \\frac{d}{d t} \\psi{\\left(t \\right)} + \\cos{\\left(\\phi{\\left(t \\right)} \\right)} \\frac{d}{d t} \\theta{\\left(t \\right)}\\right) + \\left(\\sin{\\left(\\phi{\\left(t \\right)} \\right)} \\sin{\\left(\\psi{\\left(t \\right)} \\right)} + \\sin{\\left(\\theta{\\left(t \\right)} \\right)} \\cos{\\left(\\phi{\\left(t \\right)} \\right)} \\cos{\\left(\\psi{\\left(t \\right)} \\right)}\\right) \\frac{d^{2}}{d t^{2}} \\operatorname{x_{0}}{\\left(t \\right)} + \\left(- \\sin{\\left(\\phi{\\left(t \\right)} \\right)} \\cos{\\left(\\psi{\\left(t \\right)} \\right)} + \\sin{\\left(\\psi{\\left(t \\right)} \\right)} \\sin{\\left(\\theta{\\left(t \\right)} \\right)} \\cos{\\left(\\phi{\\left(t \\right)} \\right)}\\right) \\frac{d^{2}}{d t^{2}} \\operatorname{y_{0}}{\\left(t \\right)} + \\cos{\\left(\\phi{\\left(t \\right)} \\right)} \\cos{\\left(\\theta{\\left(t \\right)} \\right)} \\frac{d^{2}}{d t^{2}} \\operatorname{z_{0}}{\\left(t \\right)}\\end{matrix}\\right]$"
      ],
      "text/plain": [
       "Matrix([\n",
       "[-p_y*(-sin(phi(t))*cos(theta(t))*Derivative(phi(t), t)*Derivative(psi(t), t) - sin(phi(t))*Derivative(theta(t), (t, 2)) - sin(theta(t))*cos(phi(t))*Derivative(psi(t), t)*Derivative(theta(t), t) + cos(phi(t))*cos(theta(t))*Derivative(psi(t), (t, 2)) - cos(phi(t))*Derivative(phi(t), t)*Derivative(theta(t), t)) + p_z*(-sin(phi(t))*sin(theta(t))*Derivative(psi(t), t)*Derivative(theta(t), t) + sin(phi(t))*cos(theta(t))*Derivative(psi(t), (t, 2)) - sin(phi(t))*Derivative(phi(t), t)*Derivative(theta(t), t) + cos(phi(t))*cos(theta(t))*Derivative(phi(t), t)*Derivative(psi(t), t) + cos(phi(t))*Derivative(theta(t), (t, 2))) - (p_x*(-sin(phi(t))*Derivative(theta(t), t) + cos(phi(t))*cos(theta(t))*Derivative(psi(t), t)) - p_z*(-sin(theta(t))*Derivative(psi(t), t) + Derivative(phi(t), t)))*(-sin(phi(t))*Derivative(theta(t), t) + cos(phi(t))*cos(theta(t))*Derivative(psi(t), t)) + (-p_x*(sin(phi(t))*cos(theta(t))*Derivative(psi(t), t) + cos(phi(t))*Derivative(theta(t), t)) + p_y*(-sin(theta(t))*Derivative(psi(t), t) + Derivative(phi(t), t)))*(sin(phi(t))*cos(theta(t))*Derivative(psi(t), t) + cos(phi(t))*Derivative(theta(t), t)) + sin(psi(t))*cos(theta(t))*Derivative(y0(t), (t, 2)) - sin(theta(t))*Derivative(z0(t), (t, 2)) + cos(psi(t))*cos(theta(t))*Derivative(x0(t), (t, 2))],\n",
       "[                                                                              p_x*(-sin(phi(t))*cos(theta(t))*Derivative(phi(t), t)*Derivative(psi(t), t) - sin(phi(t))*Derivative(theta(t), (t, 2)) - sin(theta(t))*cos(phi(t))*Derivative(psi(t), t)*Derivative(theta(t), t) + cos(phi(t))*cos(theta(t))*Derivative(psi(t), (t, 2)) - cos(phi(t))*Derivative(phi(t), t)*Derivative(theta(t), t)) - p_z*(-sin(theta(t))*Derivative(psi(t), (t, 2)) - cos(theta(t))*Derivative(psi(t), t)*Derivative(theta(t), t) + Derivative(phi(t), (t, 2))) - (-p_x*(sin(phi(t))*cos(theta(t))*Derivative(psi(t), t) + cos(phi(t))*Derivative(theta(t), t)) + p_y*(-sin(theta(t))*Derivative(psi(t), t) + Derivative(phi(t), t)))*(-sin(theta(t))*Derivative(psi(t), t) + Derivative(phi(t), t)) + (-p_y*(-sin(phi(t))*Derivative(theta(t), t) + cos(phi(t))*cos(theta(t))*Derivative(psi(t), t)) + p_z*(sin(phi(t))*cos(theta(t))*Derivative(psi(t), t) + cos(phi(t))*Derivative(theta(t), t)))*(-sin(phi(t))*Derivative(theta(t), t) + cos(phi(t))*cos(theta(t))*Derivative(psi(t), t)) + (sin(phi(t))*sin(psi(t))*sin(theta(t)) + cos(phi(t))*cos(psi(t)))*Derivative(y0(t), (t, 2)) + (sin(phi(t))*sin(theta(t))*cos(psi(t)) - sin(psi(t))*cos(phi(t)))*Derivative(x0(t), (t, 2)) + sin(phi(t))*cos(theta(t))*Derivative(z0(t), (t, 2))],\n",
       "[                                                                             -p_x*(-sin(phi(t))*sin(theta(t))*Derivative(psi(t), t)*Derivative(theta(t), t) + sin(phi(t))*cos(theta(t))*Derivative(psi(t), (t, 2)) - sin(phi(t))*Derivative(phi(t), t)*Derivative(theta(t), t) + cos(phi(t))*cos(theta(t))*Derivative(phi(t), t)*Derivative(psi(t), t) + cos(phi(t))*Derivative(theta(t), (t, 2))) + p_y*(-sin(theta(t))*Derivative(psi(t), (t, 2)) - cos(theta(t))*Derivative(psi(t), t)*Derivative(theta(t), t) + Derivative(phi(t), (t, 2))) + (p_x*(-sin(phi(t))*Derivative(theta(t), t) + cos(phi(t))*cos(theta(t))*Derivative(psi(t), t)) - p_z*(-sin(theta(t))*Derivative(psi(t), t) + Derivative(phi(t), t)))*(-sin(theta(t))*Derivative(psi(t), t) + Derivative(phi(t), t)) - (-p_y*(-sin(phi(t))*Derivative(theta(t), t) + cos(phi(t))*cos(theta(t))*Derivative(psi(t), t)) + p_z*(sin(phi(t))*cos(theta(t))*Derivative(psi(t), t) + cos(phi(t))*Derivative(theta(t), t)))*(sin(phi(t))*cos(theta(t))*Derivative(psi(t), t) + cos(phi(t))*Derivative(theta(t), t)) + (sin(phi(t))*sin(psi(t)) + sin(theta(t))*cos(phi(t))*cos(psi(t)))*Derivative(x0(t), (t, 2)) + (-sin(phi(t))*cos(psi(t)) + sin(psi(t))*sin(theta(t))*cos(phi(t)))*Derivative(y0(t), (t, 2)) + cos(phi(t))*cos(theta(t))*Derivative(z0(t), (t, 2))]])"
      ]
     },
     "execution_count": 24,
     "metadata": {},
     "output_type": "execute_result"
    }
   ],
   "source": [
    "#acceleration_matrix = P.acc(N).express(N).to_matrix(N)\n",
    "acceleration_matrix = P.acc(N).express(S).to_matrix(S)\n",
    "\n",
    "acceleration_matrix"
   ]
  },
  {
   "cell_type": "code",
   "execution_count": 25,
   "metadata": {},
   "outputs": [
    {
     "data": {
      "text/latex": [
       "$\\displaystyle \\left[\\begin{matrix}- p_{y} \\left(- phi1d psi1d \\sin{\\left(\\phi \\right)} \\cos{\\left(\\theta \\right)} - phi1d theta1d \\cos{\\left(\\phi \\right)} - psi1d theta1d \\sin{\\left(\\theta \\right)} \\cos{\\left(\\phi \\right)} + psi2d \\cos{\\left(\\phi \\right)} \\cos{\\left(\\theta \\right)} - theta2d \\sin{\\left(\\phi \\right)}\\right) + p_{z} \\left(phi1d psi1d \\cos{\\left(\\phi \\right)} \\cos{\\left(\\theta \\right)} - phi1d theta1d \\sin{\\left(\\phi \\right)} - psi1d theta1d \\sin{\\left(\\phi \\right)} \\sin{\\left(\\theta \\right)} + psi2d \\sin{\\left(\\phi \\right)} \\cos{\\left(\\theta \\right)} + theta2d \\cos{\\left(\\phi \\right)}\\right) + x02d \\cos{\\left(\\psi \\right)} \\cos{\\left(\\theta \\right)} + y02d \\sin{\\left(\\psi \\right)} \\cos{\\left(\\theta \\right)} - z02d \\sin{\\left(\\theta \\right)} + \\left(- p_{x} \\left(psi1d \\sin{\\left(\\phi \\right)} \\cos{\\left(\\theta \\right)} + theta1d \\cos{\\left(\\phi \\right)}\\right) + p_{y} \\left(phi1d - psi1d \\sin{\\left(\\theta \\right)}\\right)\\right) \\left(psi1d \\sin{\\left(\\phi \\right)} \\cos{\\left(\\theta \\right)} + theta1d \\cos{\\left(\\phi \\right)}\\right) - \\left(p_{x} \\left(psi1d \\cos{\\left(\\phi \\right)} \\cos{\\left(\\theta \\right)} - theta1d \\sin{\\left(\\phi \\right)}\\right) - p_{z} \\left(phi1d - psi1d \\sin{\\left(\\theta \\right)}\\right)\\right) \\left(psi1d \\cos{\\left(\\phi \\right)} \\cos{\\left(\\theta \\right)} - theta1d \\sin{\\left(\\phi \\right)}\\right)\\\\p_{x} \\left(- phi1d psi1d \\sin{\\left(\\phi \\right)} \\cos{\\left(\\theta \\right)} - phi1d theta1d \\cos{\\left(\\phi \\right)} - psi1d theta1d \\sin{\\left(\\theta \\right)} \\cos{\\left(\\phi \\right)} + psi2d \\cos{\\left(\\phi \\right)} \\cos{\\left(\\theta \\right)} - theta2d \\sin{\\left(\\phi \\right)}\\right) - p_{z} \\left(phi2d - psi1d theta1d \\cos{\\left(\\theta \\right)} - psi2d \\sin{\\left(\\theta \\right)}\\right) + x02d \\left(\\sin{\\left(\\phi \\right)} \\sin{\\left(\\theta \\right)} \\cos{\\left(\\psi \\right)} - \\sin{\\left(\\psi \\right)} \\cos{\\left(\\phi \\right)}\\right) + y02d \\left(\\sin{\\left(\\phi \\right)} \\sin{\\left(\\psi \\right)} \\sin{\\left(\\theta \\right)} + \\cos{\\left(\\phi \\right)} \\cos{\\left(\\psi \\right)}\\right) + z02d \\sin{\\left(\\phi \\right)} \\cos{\\left(\\theta \\right)} - \\left(phi1d - psi1d \\sin{\\left(\\theta \\right)}\\right) \\left(- p_{x} \\left(psi1d \\sin{\\left(\\phi \\right)} \\cos{\\left(\\theta \\right)} + theta1d \\cos{\\left(\\phi \\right)}\\right) + p_{y} \\left(phi1d - psi1d \\sin{\\left(\\theta \\right)}\\right)\\right) + \\left(- p_{y} \\left(psi1d \\cos{\\left(\\phi \\right)} \\cos{\\left(\\theta \\right)} - theta1d \\sin{\\left(\\phi \\right)}\\right) + p_{z} \\left(psi1d \\sin{\\left(\\phi \\right)} \\cos{\\left(\\theta \\right)} + theta1d \\cos{\\left(\\phi \\right)}\\right)\\right) \\left(psi1d \\cos{\\left(\\phi \\right)} \\cos{\\left(\\theta \\right)} - theta1d \\sin{\\left(\\phi \\right)}\\right)\\\\- p_{x} \\left(phi1d psi1d \\cos{\\left(\\phi \\right)} \\cos{\\left(\\theta \\right)} - phi1d theta1d \\sin{\\left(\\phi \\right)} - psi1d theta1d \\sin{\\left(\\phi \\right)} \\sin{\\left(\\theta \\right)} + psi2d \\sin{\\left(\\phi \\right)} \\cos{\\left(\\theta \\right)} + theta2d \\cos{\\left(\\phi \\right)}\\right) + p_{y} \\left(phi2d - psi1d theta1d \\cos{\\left(\\theta \\right)} - psi2d \\sin{\\left(\\theta \\right)}\\right) + x02d \\left(\\sin{\\left(\\phi \\right)} \\sin{\\left(\\psi \\right)} + \\sin{\\left(\\theta \\right)} \\cos{\\left(\\phi \\right)} \\cos{\\left(\\psi \\right)}\\right) + y02d \\left(- \\sin{\\left(\\phi \\right)} \\cos{\\left(\\psi \\right)} + \\sin{\\left(\\psi \\right)} \\sin{\\left(\\theta \\right)} \\cos{\\left(\\phi \\right)}\\right) + z02d \\cos{\\left(\\phi \\right)} \\cos{\\left(\\theta \\right)} + \\left(phi1d - psi1d \\sin{\\left(\\theta \\right)}\\right) \\left(p_{x} \\left(psi1d \\cos{\\left(\\phi \\right)} \\cos{\\left(\\theta \\right)} - theta1d \\sin{\\left(\\phi \\right)}\\right) - p_{z} \\left(phi1d - psi1d \\sin{\\left(\\theta \\right)}\\right)\\right) - \\left(- p_{y} \\left(psi1d \\cos{\\left(\\phi \\right)} \\cos{\\left(\\theta \\right)} - theta1d \\sin{\\left(\\phi \\right)}\\right) + p_{z} \\left(psi1d \\sin{\\left(\\phi \\right)} \\cos{\\left(\\theta \\right)} + theta1d \\cos{\\left(\\phi \\right)}\\right)\\right) \\left(psi1d \\sin{\\left(\\phi \\right)} \\cos{\\left(\\theta \\right)} + theta1d \\cos{\\left(\\phi \\right)}\\right)\\end{matrix}\\right]$"
      ],
      "text/plain": [
       "Matrix([\n",
       "[-p_y*(-phi1d*psi1d*sin(phi)*cos(theta) - phi1d*theta1d*cos(phi) - psi1d*theta1d*sin(theta)*cos(phi) + psi2d*cos(phi)*cos(theta) - theta2d*sin(phi)) + p_z*(phi1d*psi1d*cos(phi)*cos(theta) - phi1d*theta1d*sin(phi) - psi1d*theta1d*sin(phi)*sin(theta) + psi2d*sin(phi)*cos(theta) + theta2d*cos(phi)) + x02d*cos(psi)*cos(theta) + y02d*sin(psi)*cos(theta) - z02d*sin(theta) + (-p_x*(psi1d*sin(phi)*cos(theta) + theta1d*cos(phi)) + p_y*(phi1d - psi1d*sin(theta)))*(psi1d*sin(phi)*cos(theta) + theta1d*cos(phi)) - (p_x*(psi1d*cos(phi)*cos(theta) - theta1d*sin(phi)) - p_z*(phi1d - psi1d*sin(theta)))*(psi1d*cos(phi)*cos(theta) - theta1d*sin(phi))],\n",
       "[                 p_x*(-phi1d*psi1d*sin(phi)*cos(theta) - phi1d*theta1d*cos(phi) - psi1d*theta1d*sin(theta)*cos(phi) + psi2d*cos(phi)*cos(theta) - theta2d*sin(phi)) - p_z*(phi2d - psi1d*theta1d*cos(theta) - psi2d*sin(theta)) + x02d*(sin(phi)*sin(theta)*cos(psi) - sin(psi)*cos(phi)) + y02d*(sin(phi)*sin(psi)*sin(theta) + cos(phi)*cos(psi)) + z02d*sin(phi)*cos(theta) - (phi1d - psi1d*sin(theta))*(-p_x*(psi1d*sin(phi)*cos(theta) + theta1d*cos(phi)) + p_y*(phi1d - psi1d*sin(theta))) + (-p_y*(psi1d*cos(phi)*cos(theta) - theta1d*sin(phi)) + p_z*(psi1d*sin(phi)*cos(theta) + theta1d*cos(phi)))*(psi1d*cos(phi)*cos(theta) - theta1d*sin(phi))],\n",
       "[                 -p_x*(phi1d*psi1d*cos(phi)*cos(theta) - phi1d*theta1d*sin(phi) - psi1d*theta1d*sin(phi)*sin(theta) + psi2d*sin(phi)*cos(theta) + theta2d*cos(phi)) + p_y*(phi2d - psi1d*theta1d*cos(theta) - psi2d*sin(theta)) + x02d*(sin(phi)*sin(psi) + sin(theta)*cos(phi)*cos(psi)) + y02d*(-sin(phi)*cos(psi) + sin(psi)*sin(theta)*cos(phi)) + z02d*cos(phi)*cos(theta) + (phi1d - psi1d*sin(theta))*(p_x*(psi1d*cos(phi)*cos(theta) - theta1d*sin(phi)) - p_z*(phi1d - psi1d*sin(theta))) - (-p_y*(psi1d*cos(phi)*cos(theta) - theta1d*sin(phi)) + p_z*(psi1d*sin(phi)*cos(theta) + theta1d*cos(phi)))*(psi1d*sin(phi)*cos(theta) + theta1d*cos(phi))]])"
      ]
     },
     "execution_count": 25,
     "metadata": {},
     "output_type": "execute_result"
    }
   ],
   "source": [
    "substitute_dynamic_symbols(acceleration_matrix)"
   ]
  },
  {
   "cell_type": "code",
   "execution_count": 26,
   "metadata": {},
   "outputs": [],
   "source": [
    "acceleration_lambda = lambdify(acceleration_matrix)"
   ]
  },
  {
   "cell_type": "code",
   "execution_count": 27,
   "metadata": {},
   "outputs": [
    {
     "data": {
      "text/plain": [
       "<function _lambdifygenerated(p_x, p_y, p_z, phi, phi1d, phi2d, psi, psi1d, psi2d, theta, theta1d, theta2d, x02d, y02d, z02d)>"
      ]
     },
     "execution_count": 27,
     "metadata": {},
     "output_type": "execute_result"
    }
   ],
   "source": [
    "acceleration_lambda"
   ]
  },
  {
   "cell_type": "markdown",
   "metadata": {},
   "source": [
    "### Centrifugal acceleration\n",
    "Absolute acceleration can be calcualted as: <br>\n",
    "$ |a| = r\\cdot\\dot{\\theta}^2 $\n",
    "\n",
    "With the components: <br>\n",
    "$ \\ddot{x_0} = -a $ <br>\n",
    "$ \\ddot{z_0} = 0 $\n"
   ]
  },
  {
   "cell_type": "code",
   "execution_count": 28,
   "metadata": {},
   "outputs": [
    {
     "data": {
      "text/plain": [
       "<matplotlib.axes._subplots.AxesSubplot at 0xed087f0>"
      ]
     },
     "execution_count": 28,
     "metadata": {},
     "output_type": "execute_result"
    },
    {
     "data": {
      "image/png": "[encoded data removed]",
      "text/plain": [
       "<Figure size 432x288 with 1 Axes>"
      ]
     },
     "metadata": {
      "needs_background": "light"
     },
     "output_type": "display_data"
    },
    {
     "data": {
      "image/png": "[encoded data removed]",
      "text/plain": [
       "<Figure size 432x288 with 1 Axes>"
      ]
     },
     "metadata": {
      "needs_background": "light"
     },
     "output_type": "display_data"
    }
   ],
   "source": [
    "number_of_points = 100\n",
    "t = np.linspace(0,2*np.pi,number_of_points)\n",
    "r_ = 10\n",
    "w_ = 1\n",
    "df = pd.DataFrame(index = t)\n",
    "\n",
    "df['phi'] = 0\n",
    "df['theta'] = w_*t\n",
    "df['psi'] = 0\n",
    "\n",
    "df['phi1d'] = 0\n",
    "df['theta1d'] = w_\n",
    "df['psi1d'] = 0\n",
    "\n",
    "df['phi2d'] = 0\n",
    "df['theta2d'] = 0\n",
    "df['psi2d'] = 0\n",
    "\n",
    "df['p_x'] = r_\n",
    "df['p_y'] = 0\n",
    "df['p_z'] = 0\n",
    "\n",
    "\n",
    "df['x02d'] = 0\n",
    "df['y02d'] = 0\n",
    "df['z02d'] = 0\n",
    "\n",
    "\n",
    "accelerations = acceleration_lambda(**df)\n",
    "\n",
    "df_result = df.copy()\n",
    "df_result['x02d'] = accelerations[0,0]\n",
    "df_result['y02d'] = accelerations[1,0]\n",
    "df_result['z02d'] = accelerations[2,0]\n",
    "\n",
    "a = r_* w_**2\n",
    "df_result['x02d_check'] = -a\n",
    "df_result['z02d_check'] = 0\n",
    "\n",
    "fig,ax=plt.subplots()\n",
    "df_result.plot(y=['x02d','x02d_check'], ax=ax, alpha=0.7)\n",
    "\n",
    "fig,ax=plt.subplots()\n",
    "df_result.plot(y=['z02d','z02d_check'], ax=ax, alpha=0.7)"
   ]
  },
  {
   "cell_type": "markdown",
   "metadata": {},
   "source": [
    "## Save lambdas"
   ]
  },
  {
   "cell_type": "code",
   "execution_count": 29,
   "metadata": {},
   "outputs": [],
   "source": [
    "import dill\n",
    "import signal_lab\n",
    "dill.settings['recurse'] = True"
   ]
  },
  {
   "cell_type": "code",
   "execution_count": 30,
   "metadata": {},
   "outputs": [],
   "source": [
    "import os.path\n",
    "with open(os.path.join(signal_lab.directory,'point_acceleration.dill'),mode='wb') as file:\n",
    "    dill.dump(acceleration_lambda, file=file)"
   ]
  },
  {
   "cell_type": "code",
   "execution_count": null,
   "metadata": {},
   "outputs": [],
   "source": []
  }
 ],
 "metadata": {
  "kernelspec": {
   "display_name": "Python 3",
   "language": "python",
   "name": "python3"
  },
  "language_info": {
   "codemirror_mode": {
    "name": "ipython",
    "version": 3
   },
   "file_extension": ".py",
   "mimetype": "text/x-python",
   "name": "python",
   "nbconvert_exporter": "python",
   "pygments_lexer": "ipython3",
   "version": "3.5.4"
  }
 },
 "nbformat": 4,
 "nbformat_minor": 4
}
