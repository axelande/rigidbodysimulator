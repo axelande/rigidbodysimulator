{
 "cells": [
  {
   "cell_type": "markdown",
   "metadata": {},
   "source": [
    "## Rigid body 6 DOF\n",
    "Devlop a system for a rigid bofy in 6 DOF and do a simualtion"
   ]
  },
  {
   "cell_type": "code",
   "execution_count": 1,
   "metadata": {},
   "outputs": [],
   "source": [
    "import warnings\n",
    "#warnings.filterwarnings('ignore')\n",
    "%matplotlib inline\n",
    "%load_ext autoreload\n",
    "%autoreload 2"
   ]
  },
  {
   "cell_type": "code",
   "execution_count": 2,
   "metadata": {},
   "outputs": [],
   "source": [
    "import sympy as sp\n",
    "import sympy.physics.mechanics as me\n",
    "import pandas as pd\n",
    "import numpy as np\n",
    "import matplotlib.pyplot as plt\n",
    "\n",
    "from substitute_dynamic_symbols import substitute_dynamic_symbols, find_name, find_derivative_name, lambdify, find_derivatives\n",
    "\n",
    "from pydy.codegen.ode_function_generators import generate_ode_function\n",
    "from scipy.integrate import odeint\n",
    "\n"
   ]
  },
  {
   "cell_type": "code",
   "execution_count": 3,
   "metadata": {},
   "outputs": [],
   "source": [
    "x0,y0,z0 = me.dynamicsymbols('x0 y0 z0')\n",
    "x01d,y01d,z01d = me.dynamicsymbols('x01d y01d z01d')\n",
    "u,v,w = me.dynamicsymbols('u v w')\n",
    "\n",
    "phi,theta,psi = me.dynamicsymbols('phi theta psi')\n",
    "phi1d,theta1d,psi1d = me.dynamicsymbols('phi1d theta1d psi1d')"
   ]
  },
  {
   "cell_type": "code",
   "execution_count": 4,
   "metadata": {},
   "outputs": [],
   "source": [
    "N = me.ReferenceFrame('N')"
   ]
  },
  {
   "cell_type": "code",
   "execution_count": 5,
   "metadata": {},
   "outputs": [],
   "source": [
    "S = N.orientnew('S', 'Body', [psi,theta,phi],'ZYX')"
   ]
  },
  {
   "cell_type": "code",
   "execution_count": 6,
   "metadata": {},
   "outputs": [
    {
     "data": {
      "text/latex": [
       "$\\displaystyle (- \\operatorname{sin}\\left(\\theta\\right) \\dot{\\psi} + \\dot{\\phi})\\mathbf{\\hat{s}_x} + (\\operatorname{sin}\\left(\\phi\\right) \\operatorname{cos}\\left(\\theta\\right) \\dot{\\psi} + \\operatorname{cos}\\left(\\phi\\right) \\dot{\\theta})\\mathbf{\\hat{s}_y} + (- \\operatorname{sin}\\left(\\phi\\right) \\dot{\\theta} + \\operatorname{cos}\\left(\\phi\\right) \\operatorname{cos}\\left(\\theta\\right) \\dot{\\psi})\\mathbf{\\hat{s}_z}$"
      ],
      "text/plain": [
       "(-sin(theta)*psi' + phi')*S.x + (sin(phi)*cos(theta)*psi' + cos(phi)*theta')*S.y + (-sin(phi)*theta' + cos(phi)*cos(theta)*psi')*S.z"
      ]
     },
     "execution_count": 6,
     "metadata": {},
     "output_type": "execute_result"
    }
   ],
   "source": [
    "S.ang_vel_in(N)"
   ]
  },
  {
   "cell_type": "code",
   "execution_count": 7,
   "metadata": {},
   "outputs": [
    {
     "data": {
      "text/latex": [
       "$\\displaystyle (- \\operatorname{sin}\\left(\\theta\\right) \\ddot{\\psi} - \\operatorname{cos}\\left(\\theta\\right) \\dot{\\psi} \\dot{\\theta} + \\ddot{\\phi})\\mathbf{\\hat{s}_x} + (- \\operatorname{sin}\\left(\\phi\\right) \\operatorname{sin}\\left(\\theta\\right) \\dot{\\psi} \\dot{\\theta} + \\operatorname{sin}\\left(\\phi\\right) \\operatorname{cos}\\left(\\theta\\right) \\ddot{\\psi} - \\operatorname{sin}\\left(\\phi\\right) \\dot{\\phi} \\dot{\\theta} + \\operatorname{cos}\\left(\\phi\\right) \\operatorname{cos}\\left(\\theta\\right) \\dot{\\phi} \\dot{\\psi} + \\operatorname{cos}\\left(\\phi\\right) \\ddot{\\theta})\\mathbf{\\hat{s}_y} + (- \\operatorname{sin}\\left(\\phi\\right) \\operatorname{cos}\\left(\\theta\\right) \\dot{\\phi} \\dot{\\psi} - \\operatorname{sin}\\left(\\phi\\right) \\ddot{\\theta} - \\operatorname{sin}\\left(\\theta\\right) \\operatorname{cos}\\left(\\phi\\right) \\dot{\\psi} \\dot{\\theta} + \\operatorname{cos}\\left(\\phi\\right) \\operatorname{cos}\\left(\\theta\\right) \\ddot{\\psi} - \\operatorname{cos}\\left(\\phi\\right) \\dot{\\phi} \\dot{\\theta})\\mathbf{\\hat{s}_z}$"
      ],
      "text/plain": [
       "(-sin(theta)*psi'' - cos(theta)*psi'*theta' + phi'')*S.x + (-sin(phi)*sin(theta)*psi'*theta' + sin(phi)*cos(theta)*psi'' - sin(phi)*phi'*theta' + cos(phi)*cos(theta)*phi'*psi' + cos(phi)*theta'')*S.y + (-sin(phi)*cos(theta)*phi'*psi' - sin(phi)*theta'' - sin(theta)*cos(phi)*psi'*theta' + cos(phi)*cos(theta)*psi'' - cos(phi)*phi'*theta')*S.z"
      ]
     },
     "execution_count": 7,
     "metadata": {},
     "output_type": "execute_result"
    }
   ],
   "source": [
    "S.ang_acc_in(N)"
   ]
  },
  {
   "cell_type": "code",
   "execution_count": 8,
   "metadata": {},
   "outputs": [],
   "source": [
    "M = me.Point('M')  # Origo of measurement system\n",
    "M.set_vel(N, 0)\n",
    "\n",
    "O = me.Point('O') # Origo of ship\n",
    "O.set_pos(M,x0*N.x + y0*N.y + z0*N.z)\n",
    "O.set_vel(N,x01d*N.x + y01d*N.y + z01d*N.z)"
   ]
  },
  {
   "cell_type": "code",
   "execution_count": 9,
   "metadata": {},
   "outputs": [
    {
     "data": {
      "text/latex": [
       "$\\displaystyle x01d\\mathbf{\\hat{n}_x} + y01d\\mathbf{\\hat{n}_y} + z01d\\mathbf{\\hat{n}_z}$"
      ],
      "text/plain": [
       "x01d*N.x + y01d*N.y + z01d*N.z"
      ]
     },
     "execution_count": 9,
     "metadata": {},
     "output_type": "execute_result"
    }
   ],
   "source": [
    "O.vel(N)"
   ]
  },
  {
   "cell_type": "markdown",
   "metadata": {},
   "source": [
    "## Mass"
   ]
  },
  {
   "cell_type": "code",
   "execution_count": 10,
   "metadata": {},
   "outputs": [],
   "source": [
    "mass = sp.symbols('m')\n",
    "#x_g, y_g, z_g = sp.symbols('x_g y_g z_g')"
   ]
  },
  {
   "cell_type": "code",
   "execution_count": 11,
   "metadata": {},
   "outputs": [],
   "source": [
    "#c_og = me.Point('c_og')\n",
    "#c_og.set_pos(O,x_g*S.x + y_g*S.y + z_g*S.z)\n",
    "#c_og.set_vel(S,0)"
   ]
  },
  {
   "cell_type": "code",
   "execution_count": 12,
   "metadata": {},
   "outputs": [],
   "source": [
    "#c_og.v2pt_theory(O,N,S)"
   ]
  },
  {
   "cell_type": "markdown",
   "metadata": {},
   "source": [
    "## Inertia"
   ]
  },
  {
   "cell_type": "code",
   "execution_count": 13,
   "metadata": {},
   "outputs": [
    {
     "data": {
      "text/latex": [
       "$\\displaystyle I_{xx}\\mathbf{\\hat{s}_x}\\otimes \\mathbf{\\hat{s}_x} + I_{yy}\\mathbf{\\hat{s}_y}\\otimes \\mathbf{\\hat{s}_y} + I_{zz}\\mathbf{\\hat{s}_z}\\otimes \\mathbf{\\hat{s}_z}$"
      ],
      "text/plain": [
       "I_xx*(S.x|S.x) + I_yy*(S.y|S.y) + I_zz*(S.z|S.z)"
      ]
     },
     "execution_count": 13,
     "metadata": {},
     "output_type": "execute_result"
    }
   ],
   "source": [
    "I_xx, I_yy, I_zz = sp.symbols('I_xx, I_yy, I_zz')\n",
    "body_inertia_dyadic = me.inertia(S, ixx=I_xx, iyy=I_yy, izz=I_zz)\n",
    "body_inertia_dyadic"
   ]
  },
  {
   "cell_type": "code",
   "execution_count": 14,
   "metadata": {},
   "outputs": [
    {
     "data": {
      "text/latex": [
       "$\\displaystyle \\left[\\begin{matrix}I_{xx} & 0 & 0\\\\0 & I_{yy} & 0\\\\0 & 0 & I_{zz}\\end{matrix}\\right]$"
      ],
      "text/plain": [
       "Matrix([\n",
       "[I_xx,    0,    0],\n",
       "[   0, I_yy,    0],\n",
       "[   0,    0, I_zz]])"
      ]
     },
     "execution_count": 14,
     "metadata": {},
     "output_type": "execute_result"
    }
   ],
   "source": [
    "body_inertia_dyadic.to_matrix(S)"
   ]
  },
  {
   "cell_type": "code",
   "execution_count": 15,
   "metadata": {},
   "outputs": [],
   "source": [
    "body_central_inertia = (body_inertia_dyadic, O)"
   ]
  },
  {
   "cell_type": "code",
   "execution_count": 16,
   "metadata": {},
   "outputs": [],
   "source": [
    "body = me.RigidBody('Rigid body', masscenter=O, frame = S,\n",
    "                      mass=mass, inertia=body_central_inertia)"
   ]
  },
  {
   "cell_type": "code",
   "execution_count": null,
   "metadata": {},
   "outputs": [],
   "source": []
  },
  {
   "cell_type": "markdown",
   "metadata": {},
   "source": [
    "## Forces"
   ]
  },
  {
   "cell_type": "code",
   "execution_count": 17,
   "metadata": {},
   "outputs": [],
   "source": [
    "fx, fy, fz, mx, my, mz = sp.symbols('f_x f_y f_z m_x m_y m_z')"
   ]
  },
  {
   "cell_type": "code",
   "execution_count": 18,
   "metadata": {},
   "outputs": [],
   "source": [
    "force_vector = fx*S.x + fy*S.y + fz*S.z\n",
    "torque_vector = mx*S.x + my*S.y + mz*S.z"
   ]
  },
  {
   "cell_type": "code",
   "execution_count": 19,
   "metadata": {},
   "outputs": [],
   "source": [
    "force = (O, force_vector)\n",
    "torque = (S, torque_vector)"
   ]
  },
  {
   "cell_type": "markdown",
   "metadata": {},
   "source": [
    "## Equations of Motion"
   ]
  },
  {
   "cell_type": "code",
   "execution_count": 20,
   "metadata": {},
   "outputs": [],
   "source": [
    "coordinates = [x0, y0, z0, phi, theta, psi]\n",
    "speeds = [x01d, y01d, z01d, phi1d, theta1d, psi1d]"
   ]
  },
  {
   "cell_type": "code",
   "execution_count": null,
   "metadata": {},
   "outputs": [],
   "source": []
  },
  {
   "cell_type": "code",
   "execution_count": 21,
   "metadata": {},
   "outputs": [],
   "source": [
    "kinematical_differential_equations = [x0.diff() - x01d,                                      \n",
    "                                      y0.diff() - y01d,\n",
    "                                      z0.diff() - z01d,\n",
    "                                      phi.diff() - phi1d,\n",
    "                                      theta.diff() - theta1d,\n",
    "                                      psi.diff() - psi1d,\n",
    "                                     ]"
   ]
  },
  {
   "cell_type": "code",
   "execution_count": 22,
   "metadata": {},
   "outputs": [],
   "source": [
    "#?me.KanesMethod"
   ]
  },
  {
   "cell_type": "code",
   "execution_count": 23,
   "metadata": {},
   "outputs": [],
   "source": [
    "kane = me.KanesMethod(N, coordinates, speeds, kinematical_differential_equations)"
   ]
  },
  {
   "cell_type": "code",
   "execution_count": 24,
   "metadata": {},
   "outputs": [],
   "source": [
    "loads = [force,\n",
    "         torque]"
   ]
  },
  {
   "cell_type": "code",
   "execution_count": 25,
   "metadata": {},
   "outputs": [],
   "source": [
    "bodies = [body]\n",
    "fr, frstar = kane.kanes_equations(bodies, loads)"
   ]
  },
  {
   "cell_type": "code",
   "execution_count": 26,
   "metadata": {},
   "outputs": [],
   "source": [
    "constants = [I_xx, I_yy, I_zz,mass]\n",
    "\n",
    "specified = [fx, fy, fz, mx, my, mz]  # External force/torque\n",
    "\n",
    "right_hand_side = generate_ode_function(kane.forcing_full, coordinates,\n",
    "                                        speeds, constants,\n",
    "                                        mass_matrix=kane.mass_matrix_full,specifieds=specified)"
   ]
  },
  {
   "cell_type": "code",
   "execution_count": 27,
   "metadata": {},
   "outputs": [
    {
     "data": {
      "text/plain": [
       "array([0., 0., 0., 0., 0., 0., 1., 0., 0., 0., 0., 0.])"
      ]
     },
     "execution_count": 27,
     "metadata": {},
     "output_type": "execute_result"
    }
   ],
   "source": [
    "coordinates_ = [0, 0, 0, 0, 0, 0]\n",
    "speeds_ = [0, 0, 0, 0, 0, 0]\n",
    "\n",
    "start = np.array(coordinates_+speeds_)\n",
    "\n",
    "t = 0.\n",
    "force_torque = [1,0,0,0,0,0]\n",
    "numerical_specified = np.array(force_torque)\n",
    "\n",
    "I_xx_ = 1\n",
    "I_yy_ = 1\n",
    "I_zz_ = 1\n",
    "mass_ = 1\n",
    "\n",
    "numerical_constants = np.array([I_xx_, I_yy_, I_zz_,mass_])\n",
    "\n",
    "right_hand_side(start,t,numerical_specified, numerical_constants)"
   ]
  },
  {
   "cell_type": "code",
   "execution_count": 28,
   "metadata": {},
   "outputs": [],
   "source": [
    "def simulate(t,force_torque, I_xx,I_yy,I_zz,mass, initial_coordinates = [0, 0, 0, 0, 0, 0], \n",
    "             initial_speeds = [0, 0, 0, 0, 0, 0]):\n",
    "    \n",
    "    start = np.array(initial_coordinates+initial_speeds)\n",
    "    \n",
    "    numerical_specified = force_torque\n",
    "        \n",
    "    numerical_constants = np.array([I_xx, I_yy, I_zz, mass])\n",
    "    \n",
    "    df = pd.DataFrame(index=t)\n",
    "    y = odeint(right_hand_side, start, t, args=(numerical_specified, numerical_constants))\n",
    "    \n",
    "    for i,symbol in enumerate(coordinates+speeds):\n",
    "        name = symbol.name\n",
    "        df[name] = y[:,i]\n",
    "        \n",
    "    return df"
   ]
  },
  {
   "cell_type": "code",
   "execution_count": 29,
   "metadata": {},
   "outputs": [
    {
     "data": {
      "image/png": "[encoded data removed]",
      "text/plain": [
       "<Figure size 432x288 with 1 Axes>"
      ]
     },
     "metadata": {
      "needs_background": "light"
     },
     "output_type": "display_data"
    },
    {
     "data": {
      "image/png": "[encoded data removed]",
      "text/plain": [
       "<Figure size 432x288 with 1 Axes>"
      ]
     },
     "metadata": {
      "needs_background": "light"
     },
     "output_type": "display_data"
    }
   ],
   "source": [
    "t = np.linspace(0,10,100)\n",
    "\n",
    "df = simulate(t=t, force_torque=[1,0,0,0,0,0],I_xx=1, I_yy=1, I_zz=1, mass=1)\n",
    "\n",
    "\n",
    "fig,ax = plt.subplots()\n",
    "df.plot(y='x0', ax=ax);\n",
    "ax.set_xlabel('time [s]')\n",
    "\n",
    "fig,ax = plt.subplots()\n",
    "df.plot(y='x01d', ax=ax);\n",
    "ax.set_xlabel('time [s]');"
   ]
  },
  {
   "cell_type": "code",
   "execution_count": 30,
   "metadata": {},
   "outputs": [
    {
     "data": {
      "image/png": "[encoded data removed]",
      "text/plain": [
       "<Figure size 432x288 with 1 Axes>"
      ]
     },
     "metadata": {
      "needs_background": "light"
     },
     "output_type": "display_data"
    },
    {
     "data": {
      "image/png": "[encoded data removed]",
      "text/plain": [
       "<Figure size 432x288 with 1 Axes>"
      ]
     },
     "metadata": {
      "needs_background": "light"
     },
     "output_type": "display_data"
    }
   ],
   "source": [
    "t = np.linspace(0,10,100)\n",
    "\n",
    "df = simulate(t=t, force_torque=[0,0,0,1,0,0],I_xx=1, I_yy=1, I_zz=1, mass=1)\n",
    "\n",
    "\n",
    "fig,ax = plt.subplots()\n",
    "df.plot(y='phi', ax=ax);\n",
    "ax.set_xlabel('time [s]')\n",
    "\n",
    "fig,ax = plt.subplots()\n",
    "df.plot(y='phi1d', ax=ax);\n",
    "ax.set_xlabel('time [s]');"
   ]
  },
  {
   "cell_type": "code",
   "execution_count": 31,
   "metadata": {},
   "outputs": [],
   "source": [
    "def track_plot(df,ax, l=1, time_step='1S'):\n",
    "    \n",
    "    df.plot(x='y0', y='x0',ax = ax)\n",
    "    \n",
    "    df_ = df.copy()\n",
    "    df_.index = pd.TimedeltaIndex(df_.index,unit='s')\n",
    "    df_ = df_.resample(time_step).first()   \n",
    "    \n",
    "    def plot_body(row):\n",
    "        x = row['y0']\n",
    "        y = row['x0']\n",
    "        psi = row['psi']\n",
    "        xs = [x-l/2*np.sin(psi),x+l/2*np.sin(psi)]\n",
    "        ys = [y-l/2*np.cos(psi),y+l/2*np.cos(psi)]\n",
    "        ax.plot(xs,ys,'k-')\n",
    "    \n",
    "    for index,row in df_.iterrows():\n",
    "        plot_body(row)\n",
    "    \n",
    "    ax.set_xlabel('y0')\n",
    "    ax.set_ylabel('x0')\n",
    "    ax.axis('equal')\n",
    "    \n",
    "    \n",
    "        \n",
    "    \n",
    "    "
   ]
  },
  {
   "cell_type": "code",
   "execution_count": 32,
   "metadata": {},
   "outputs": [
    {
     "name": "stderr",
     "output_type": "stream",
     "text": [
      "c:\\dev\\motion-to-acceleration\\venv\\lib\\site-packages\\pandas\\plotting\\_matplotlib\\core.py:1085: UserWarning: Attempting to set identical left==right results\n",
      "in singular transformations; automatically expanding.\n",
      "left=0.0, right=0.0\n",
      "  ax.set_xlim(left, right)\n"
     ]
    },
    {
     "data": {
      "text/plain": [
       "Text(0, 0.5, 'psi')"
      ]
     },
     "execution_count": 32,
     "metadata": {},
     "output_type": "execute_result"
    },
    {
     "data": {
      "image/png": "[encoded data removed]",
      "text/plain": [
       "<Figure size 432x288 with 1 Axes>"
      ]
     },
     "metadata": {
      "needs_background": "light"
     },
     "output_type": "display_data"
    },
    {
     "data": {
      "image/png": "[encoded data removed]",
      "text/plain": [
       "<Figure size 432x288 with 1 Axes>"
      ]
     },
     "metadata": {
      "needs_background": "light"
     },
     "output_type": "display_data"
    }
   ],
   "source": [
    "t = np.linspace(0,10,100)\n",
    "\n",
    "coordinates_ = [0, 0, 0, 0, 0, 0]\n",
    "speeds_ = [1, 0, 0, 0, 0, 1]\n",
    "\n",
    "start = np.array(coordinates_+speeds_)\n",
    "\n",
    "df = simulate(t=t, force_torque=[0,0.0,0,0,0,0.0],I_xx=1, I_yy=1, I_zz=1, mass=1,\n",
    "              initial_speeds=[1,0,0,0,0,0.05],initial_coordinates=[0, 0, 0, 0, 0, 0.0])\n",
    "\n",
    "\n",
    "fig,ax = plt.subplots()\n",
    "track_plot(df,ax)\n",
    "\n",
    "\n",
    "fig,ax = plt.subplots()\n",
    "df.plot(y='psi', ax=ax);\n",
    "ax.set_xlabel('time')\n",
    "ax.set_ylabel('psi')\n",
    "\n"
   ]
  },
  {
   "cell_type": "code",
   "execution_count": 33,
   "metadata": {},
   "outputs": [
    {
     "data": {
      "text/plain": [
       "Text(0, 0.5, 'psi')"
      ]
     },
     "execution_count": 33,
     "metadata": {},
     "output_type": "execute_result"
    },
    {
     "data": {
      "image/png": "[encoded data removed]",
      "text/plain": [
       "<Figure size 432x288 with 1 Axes>"
      ]
     },
     "metadata": {
      "needs_background": "light"
     },
     "output_type": "display_data"
    },
    {
     "data": {
      "image/png": "[encoded data removed]",
      "text/plain": [
       "<Figure size 432x288 with 1 Axes>"
      ]
     },
     "metadata": {
      "needs_background": "light"
     },
     "output_type": "display_data"
    }
   ],
   "source": [
    "t = np.linspace(0,10,100)\n",
    "\n",
    "coordinates_ = [0, 0, 0, 0, 0, 0]\n",
    "speeds_ = [1, 0, 0, 0, 0, 1]\n",
    "\n",
    "start = np.array(coordinates_+speeds_)\n",
    "\n",
    "df = simulate(t=t, force_torque=[0,0.3,0,0,0,0.00],I_xx=1, I_yy=1, I_zz=1, mass=1,\n",
    "              initial_speeds=[1,0,0,0,0,0.2],initial_coordinates=[0, 0, 0, 0, 0, 0.0])\n",
    "\n",
    "\n",
    "fig,ax = plt.subplots()\n",
    "track_plot(df,ax)\n",
    "\n",
    "\n",
    "fig,ax = plt.subplots()\n",
    "df.plot(y='psi', ax=ax);\n",
    "ax.set_xlabel('time')\n",
    "ax.set_ylabel('psi')"
   ]
  },
  {
   "cell_type": "code",
   "execution_count": 34,
   "metadata": {},
   "outputs": [],
   "source": [
    "t = np.linspace(0,10,100)\n",
    "\n",
    "coordinates_ = [0, 0, 0, 0, 0, 0]\n",
    "speeds_ = [1, 0, 0, 0, 0, 1]\n",
    "\n",
    "start = np.array(coordinates_+speeds_)\n",
    "\n",
    "df = simulate(t=t, force_torque=[0.3,0.6,0.5,0.2,0.1,0.1],I_xx=1, I_yy=1, I_zz=1, mass=1,\n",
    "              initial_speeds=[1,0.01,0.01,0.01,0.01,0.2],initial_coordinates=[0, 0, 0, 0, 0, 0.0])\n"
   ]
  },
  {
   "cell_type": "code",
   "execution_count": 35,
   "metadata": {},
   "outputs": [
    {
     "data": {
      "application/vnd.jupyter.widget-view+json": {
       "model_id": "084121e505384c7892cef2fe2fb11d98",
       "version_major": 2,
       "version_minor": 0
      },
      "text/plain": [
       "VBox(children=(Figure(animation=0.0, animation_exponent=0.0, camera=PerspectiveCamera(fov=46.0, position=(0.0,…"
      ]
     },
     "metadata": {},
     "output_type": "display_data"
    }
   ],
   "source": [
    "import ipyvolume as ipv\n",
    "ipv.figure(animation=0.,animation_exponent=0,width=800,height=800)\n",
    "ipv.pylab.plot(df['x0'].values,df['y0'].values,df['z0'].values)\n",
    "ipv.pylab.show()"
   ]
  },
  {
   "cell_type": "code",
   "execution_count": null,
   "metadata": {},
   "outputs": [],
   "source": []
  }
 ],
 "metadata": {
  "kernelspec": {
   "display_name": "Python 3",
   "language": "python",
   "name": "python3"
  },
  "language_info": {
   "codemirror_mode": {
    "name": "ipython",
    "version": 3
   },
   "file_extension": ".py",
   "mimetype": "text/x-python",
   "name": "python",
   "nbconvert_exporter": "python",
   "pygments_lexer": "ipython3",
   "version": "3.5.4"
  }
 },
 "nbformat": 4,
 "nbformat_minor": 4
}
