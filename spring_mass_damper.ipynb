{
 "cells": [
  {
   "cell_type": "markdown",
   "metadata": {},
   "source": [
    "## Spring mass damper"
   ]
  },
  {
   "cell_type": "code",
   "execution_count": 55,
   "metadata": {},
   "outputs": [],
   "source": [
    "from sympy import symbols\n",
    "from sympy.physics.mechanics import dynamicsymbols, ReferenceFrame\n",
    "from sympy.physics.mechanics import Point, Particle, KanesMethod\n",
    "from pydy.codegen.ode_function_generators import generate_ode_function\n",
    "from scipy.integrate import odeint\n",
    "import numpy as np\n",
    "import matplotlib.pyplot as plt\n",
    "import pandas as pd"
   ]
  },
  {
   "cell_type": "code",
   "execution_count": 173,
   "metadata": {},
   "outputs": [],
   "source": [
    "q,u = dynamicsymbols('q u')\n",
    "qd = dynamicsymbols('q', 1)\n",
    "m, c, k = symbols('m c k')\n"
   ]
  },
  {
   "cell_type": "code",
   "execution_count": 174,
   "metadata": {},
   "outputs": [],
   "source": [
    "N = ReferenceFrame('N')"
   ]
  },
  {
   "cell_type": "code",
   "execution_count": 175,
   "metadata": {},
   "outputs": [],
   "source": [
    "P = Point('P')\n",
    "P.set_vel(N, u * N.x)"
   ]
  },
  {
   "cell_type": "code",
   "execution_count": 176,
   "metadata": {},
   "outputs": [],
   "source": [
    "kinenematic_differential_equation = [qd - u]\n",
    "force_vector_spring = (-k*q)*N.x\n",
    "force_vector_damper = (-c*u)* N.x\n",
    "force_vector_external = F*N.x\n",
    "force_spring = (P, force_vector_spring)\n",
    "force_damper = (P, force_vector_damper)\n",
    "force_external = (P,force_vector_external)\n",
    "\n",
    "forces = [force_spring,force_damper,force_external]\n",
    "\n",
    "\n",
    "particle = Particle('pa', P, m)\n",
    "bodies = [particle]"
   ]
  },
  {
   "cell_type": "code",
   "execution_count": 177,
   "metadata": {},
   "outputs": [],
   "source": [
    "coordinates = [q]\n",
    "speeds = [u]\n",
    "\n",
    "kane = KanesMethod(frame=N, q_ind=coordinates, u_ind=speeds, kd_eqs=kinenematic_differential_equation)\n",
    "(fr, frstar) = kane.kanes_equations(bodies=bodies, loads=forces)\n"
   ]
  },
  {
   "cell_type": "code",
   "execution_count": 178,
   "metadata": {},
   "outputs": [
    {
     "data": {
      "text/latex": [
       "$\\displaystyle \\left[\\begin{matrix}m\\end{matrix}\\right]$"
      ],
      "text/plain": [
       "Matrix([[m]])"
      ]
     },
     "execution_count": 178,
     "metadata": {},
     "output_type": "execute_result"
    }
   ],
   "source": [
    "mass_matrix = kane.mass_matrix\n",
    "mass_matrix"
   ]
  },
  {
   "cell_type": "code",
   "execution_count": 179,
   "metadata": {},
   "outputs": [
    {
     "data": {
      "text/latex": [
       "$\\displaystyle \\left[\\begin{matrix}1 & 0\\\\0 & m\\end{matrix}\\right]$"
      ],
      "text/plain": [
       "Matrix([\n",
       "[1, 0],\n",
       "[0, m]])"
      ]
     },
     "execution_count": 179,
     "metadata": {},
     "output_type": "execute_result"
    }
   ],
   "source": [
    "kane.mass_matrix_full"
   ]
  },
  {
   "cell_type": "code",
   "execution_count": 180,
   "metadata": {},
   "outputs": [
    {
     "data": {
      "text/latex": [
       "$\\displaystyle \\left[\\begin{matrix}F - c u{\\left(t \\right)} - k q{\\left(t \\right)}\\end{matrix}\\right]$"
      ],
      "text/plain": [
       "Matrix([[F - c*u(t) - k*q(t)]])"
      ]
     },
     "execution_count": 180,
     "metadata": {},
     "output_type": "execute_result"
    }
   ],
   "source": [
    "forcing = kane.forcing\n",
    "forcing"
   ]
  },
  {
   "cell_type": "code",
   "execution_count": 181,
   "metadata": {},
   "outputs": [
    {
     "data": {
      "text/latex": [
       "$\\displaystyle \\left[\\begin{matrix}\\frac{F - c u{\\left(t \\right)} - k q{\\left(t \\right)}}{m}\\end{matrix}\\right]$"
      ],
      "text/plain": [
       "Matrix([[(F - c*u(t) - k*q(t))/m]])"
      ]
     },
     "execution_count": 181,
     "metadata": {},
     "output_type": "execute_result"
    }
   ],
   "source": [
    "rhs = MM.inv() * forcing\n",
    "rhs\n"
   ]
  },
  {
   "cell_type": "code",
   "execution_count": 182,
   "metadata": {},
   "outputs": [
    {
     "data": {
      "text/latex": [
       "$\\displaystyle \\left[\\begin{matrix}u{\\left(t \\right)}\\\\F - c u{\\left(t \\right)} - k q{\\left(t \\right)}\\end{matrix}\\right]$"
      ],
      "text/plain": [
       "Matrix([\n",
       "[               u(t)],\n",
       "[F - c*u(t) - k*q(t)]])"
      ]
     },
     "execution_count": 182,
     "metadata": {},
     "output_type": "execute_result"
    }
   ],
   "source": [
    "kane.forcing_full"
   ]
  },
  {
   "cell_type": "code",
   "execution_count": 183,
   "metadata": {},
   "outputs": [
    {
     "data": {
      "text/latex": [
       "$\\displaystyle \\left[\\begin{matrix}1 & 0\\\\0 & \\frac{1}{m}\\end{matrix}\\right]$"
      ],
      "text/plain": [
       "Matrix([\n",
       "[1,   0],\n",
       "[0, 1/m]])"
      ]
     },
     "execution_count": 183,
     "metadata": {},
     "output_type": "execute_result"
    }
   ],
   "source": [
    "kane.mass_matrix_full.inv()"
   ]
  },
  {
   "cell_type": "code",
   "execution_count": 184,
   "metadata": {},
   "outputs": [
    {
     "data": {
      "text/latex": [
       "$\\displaystyle \\left[\\begin{matrix}u{\\left(t \\right)}\\\\\\frac{F - c u{\\left(t \\right)} - k q{\\left(t \\right)}}{m}\\end{matrix}\\right]$"
      ],
      "text/plain": [
       "Matrix([\n",
       "[                   u(t)],\n",
       "[(F - c*u(t) - k*q(t))/m]])"
      ]
     },
     "execution_count": 184,
     "metadata": {},
     "output_type": "execute_result"
    }
   ],
   "source": [
    "kane.mass_matrix_full.inv()*kane.forcing_full"
   ]
  },
  {
   "cell_type": "code",
   "execution_count": 185,
   "metadata": {},
   "outputs": [],
   "source": [
    "constants = [m,c,k]\n",
    "\n",
    "specified = [F]  # External force\n",
    "\n",
    "right_hand_side = generate_ode_function(kane.forcing_full, coordinates,\n",
    "                                        speeds, constants,\n",
    "                                        mass_matrix=kane.mass_matrix_full,specifieds=specified)"
   ]
  },
  {
   "cell_type": "code",
   "execution_count": 186,
   "metadata": {},
   "outputs": [
    {
     "data": {
      "text/plain": [
       "array([ 0., -1.])"
      ]
     },
     "execution_count": 186,
     "metadata": {},
     "output_type": "execute_result"
    }
   ],
   "source": [
    "x0 = np.array([1,0])\n",
    "t = 0.\n",
    "F_ = 0.0\n",
    "numerical_specified = np.array([F_])\n",
    "m_ = 1\n",
    "c_ = 0.1\n",
    "k_ = 1\n",
    "numerical_constants = np.array([m_,c_,k_])\n",
    "\n",
    "right_hand_side(x0,t,numerical_specified, numerical_constants)"
   ]
  },
  {
   "cell_type": "code",
   "execution_count": 187,
   "metadata": {},
   "outputs": [
    {
     "data": {
      "text/plain": [
       "Text(0.5, 0, 'time [s]')"
      ]
     },
     "execution_count": 187,
     "metadata": {},
     "output_type": "execute_result"
    },
    {
     "data": {
      "image/png": "[encoded data removed]",
      "text/plain": [
       "<Figure size 432x288 with 1 Axes>"
      ]
     },
     "metadata": {
      "needs_background": "light"
     },
     "output_type": "display_data"
    },
    {
     "data": {
      "image/png": "[encoded data removed]",
      "text/plain": [
       "<Figure size 432x288 with 1 Axes>"
      ]
     },
     "metadata": {
      "needs_background": "light"
     },
     "output_type": "display_data"
    }
   ],
   "source": [
    "t = np.linspace(0,10,100)\n",
    "\n",
    "x0 = np.array([1,0])\n",
    "F_ = 0.0\n",
    "numerical_specified = np.array([F_])\n",
    "m_ = 1\n",
    "c_ = 0.1\n",
    "k_ = 1\n",
    "numerical_constants = np.array([m_,c_,k_])\n",
    "\n",
    "df = pd.DataFrame(index=t)\n",
    "y = odeint(right_hand_side, x0, t, args=(numerical_specified, numerical_constants))\n",
    "\n",
    "df['motion'] = y[:,0]\n",
    "df['velocity'] = y[:,1]\n",
    "\n",
    "fig,ax = plt.subplots()\n",
    "df.plot(y='motion', ax=ax);\n",
    "ax.set_xlabel('time [s]')\n",
    "\n",
    "fig,ax = plt.subplots()\n",
    "df.plot(y='velocity', ax=ax);\n",
    "ax.set_xlabel('time [s]')"
   ]
  },
  {
   "cell_type": "code",
   "execution_count": 188,
   "metadata": {},
   "outputs": [
    {
     "data": {
      "text/plain": [
       "Text(0.5, 0, 'time [s]')"
      ]
     },
     "execution_count": 188,
     "metadata": {},
     "output_type": "execute_result"
    },
    {
     "data": {
      "image/png": "[encoded data removed]",
      "text/plain": [
       "<Figure size 432x288 with 1 Axes>"
      ]
     },
     "metadata": {
      "needs_background": "light"
     },
     "output_type": "display_data"
    },
    {
     "data": {
      "image/png": "[encoded data removed]",
      "text/plain": [
       "<Figure size 432x288 with 1 Axes>"
      ]
     },
     "metadata": {
      "needs_background": "light"
     },
     "output_type": "display_data"
    }
   ],
   "source": [
    "t = np.linspace(0,10,100)\n",
    "\n",
    "x0 = np.array([1,0])\n",
    "F_ = 0.3\n",
    "numerical_specified = np.array([F_])\n",
    "m_ = 1\n",
    "c_ = 0.1\n",
    "k_ = 1\n",
    "numerical_constants = np.array([m_,c_,k_])\n",
    "\n",
    "df = pd.DataFrame(index=t)\n",
    "y = odeint(right_hand_side, x0, t, args=(numerical_specified, numerical_constants))\n",
    "\n",
    "df['motion'] = y[:,0]\n",
    "df['velocity'] = y[:,1]\n",
    "\n",
    "fig,ax = plt.subplots()\n",
    "df.plot(y='motion', ax=ax);\n",
    "ax.set_xlabel('time [s]')\n",
    "\n",
    "fig,ax = plt.subplots()\n",
    "df.plot(y='velocity', ax=ax);\n",
    "ax.set_xlabel('time [s]')"
   ]
  },
  {
   "cell_type": "code",
   "execution_count": null,
   "metadata": {},
   "outputs": [],
   "source": []
  },
  {
   "cell_type": "code",
   "execution_count": null,
   "metadata": {},
   "outputs": [],
   "source": []
  },
  {
   "cell_type": "code",
   "execution_count": null,
   "metadata": {},
   "outputs": [],
   "source": []
  },
  {
   "cell_type": "code",
   "execution_count": null,
   "metadata": {},
   "outputs": [],
   "source": []
  }
 ],
 "metadata": {
  "kernelspec": {
   "display_name": "Python 3",
   "language": "python",
   "name": "python3"
  },
  "language_info": {
   "codemirror_mode": {
    "name": "ipython",
    "version": 3
   },
   "file_extension": ".py",
   "mimetype": "text/x-python",
   "name": "python",
   "nbconvert_exporter": "python",
   "pygments_lexer": "ipython3",
   "version": "3.5.4"
  }
 },
 "nbformat": 4,
 "nbformat_minor": 2
}
