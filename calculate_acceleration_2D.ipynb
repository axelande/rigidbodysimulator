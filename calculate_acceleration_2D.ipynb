{
 "cells": [
  {
   "cell_type": "markdown",
   "metadata": {},
   "source": [
    "## Accleration from motion\n",
    "Calcualtion of 2 DOF acceleration in some point based on 2 DOF motion in some other point"
   ]
  },
  {
   "cell_type": "code",
   "execution_count": 1,
   "metadata": {},
   "outputs": [],
   "source": [
    "import warnings\n",
    "#warnings.filterwarnings('ignore')\n",
    "%matplotlib inline\n",
    "%load_ext autoreload\n",
    "%autoreload 2"
   ]
  },
  {
   "cell_type": "code",
   "execution_count": 2,
   "metadata": {},
   "outputs": [],
   "source": [
    "import sympy as sp\n",
    "import sympy.physics.mechanics as me\n",
    "import pandas as pd\n",
    "import numpy as np\n",
    "import matplotlib.pyplot as plt\n",
    "\n",
    "from signal_lab.substitute_dynamic_symbols import substitute_dynamic_symbols, find_name, find_derivative_name, lambdify\n"
   ]
  },
  {
   "cell_type": "code",
   "execution_count": 3,
   "metadata": {},
   "outputs": [],
   "source": [
    "x0,y0,z0 = me.dynamicsymbols('x0 y0 z0')\n",
    "x01d,y01d,z01d = me.dynamicsymbols('x0 y0 z0',1)\n",
    "x02d,y02d,z02d = me.dynamicsymbols('x0 y0 z0',2)\n",
    "\n",
    "phi,theta,psi = me.dynamicsymbols('phi theta psi')\n",
    "p,q,r = me.dynamicsymbols('phi theta psi',1)\n",
    "p1d,q1d,r1d = me.dynamicsymbols('phi theta psi',2)\n",
    "\n",
    "\n",
    "p_x = sp.Symbol('p_x')\n",
    "p_y = sp.Symbol('p_y')\n",
    "p_z = sp.Symbol('p_z')\n",
    "\n"
   ]
  },
  {
   "cell_type": "code",
   "execution_count": 4,
   "metadata": {},
   "outputs": [
    {
     "data": {
      "text/latex": [
       "$\\displaystyle \\frac{d^{2}}{d t^{2}} \\operatorname{x_{0}}{\\left(t \\right)}$"
      ],
      "text/plain": [
       "Derivative(x0(t), (t, 2))"
      ]
     },
     "execution_count": 4,
     "metadata": {},
     "output_type": "execute_result"
    }
   ],
   "source": [
    "x02d"
   ]
  },
  {
   "cell_type": "code",
   "execution_count": 5,
   "metadata": {},
   "outputs": [],
   "source": [
    "N = me.ReferenceFrame('N')"
   ]
  },
  {
   "cell_type": "code",
   "execution_count": 6,
   "metadata": {},
   "outputs": [],
   "source": [
    "S = N.orientnew('S', 'Axis', [theta,N.y])"
   ]
  },
  {
   "cell_type": "code",
   "execution_count": 7,
   "metadata": {},
   "outputs": [],
   "source": [
    "#S.set_ang_vel(N, q * N.y)\n",
    "#S.set_ang_acc(N, q1d * N.y)"
   ]
  },
  {
   "cell_type": "code",
   "execution_count": 8,
   "metadata": {},
   "outputs": [
    {
     "data": {
      "text/latex": [
       "$\\displaystyle \\dot{\\theta}\\mathbf{\\hat{n}_y}$"
      ],
      "text/plain": [
       "theta'*N.y"
      ]
     },
     "execution_count": 8,
     "metadata": {},
     "output_type": "execute_result"
    }
   ],
   "source": [
    "S.ang_vel_in(N)"
   ]
  },
  {
   "cell_type": "code",
   "execution_count": 9,
   "metadata": {},
   "outputs": [
    {
     "data": {
      "text/latex": [
       "$\\displaystyle \\ddot{\\theta}\\mathbf{\\hat{n}_y}$"
      ],
      "text/plain": [
       "theta''*N.y"
      ]
     },
     "execution_count": 9,
     "metadata": {},
     "output_type": "execute_result"
    }
   ],
   "source": [
    "S.ang_acc_in(N)"
   ]
  },
  {
   "cell_type": "code",
   "execution_count": 10,
   "metadata": {},
   "outputs": [],
   "source": [
    "M = me.Point('M')  # Origo of measurement system\n",
    "M.set_vel(N, 0)\n",
    "\n",
    "O = M.locatenew('O', x0*N.x + z0*N.z) # Origo of ship\n",
    "O.set_vel(N, x01d*N.x + z01d*N.z)\n",
    "O.set_acc(N, x02d*N.x + z02d*N.z)\n",
    "\n"
   ]
  },
  {
   "cell_type": "code",
   "execution_count": 11,
   "metadata": {},
   "outputs": [],
   "source": [
    "P = O.locatenew('P', p_x*S.x + p_z*S.z)\n",
    "P.set_vel(S, 0)\n"
   ]
  },
  {
   "cell_type": "code",
   "execution_count": 12,
   "metadata": {},
   "outputs": [
    {
     "data": {
      "text/latex": [
       "$\\displaystyle \\left[\\begin{matrix}\\cos{\\left(\\theta{\\left(t \\right)} \\right)} & 0 & - \\sin{\\left(\\theta{\\left(t \\right)} \\right)}\\\\0 & 1 & 0\\\\\\sin{\\left(\\theta{\\left(t \\right)} \\right)} & 0 & \\cos{\\left(\\theta{\\left(t \\right)} \\right)}\\end{matrix}\\right]$"
      ],
      "text/plain": [
       "Matrix([\n",
       "[cos(theta(t)), 0, -sin(theta(t))],\n",
       "[            0, 1,              0],\n",
       "[sin(theta(t)), 0,  cos(theta(t))]])"
      ]
     },
     "execution_count": 12,
     "metadata": {},
     "output_type": "execute_result"
    }
   ],
   "source": [
    "S.dcm(N)"
   ]
  },
  {
   "cell_type": "code",
   "execution_count": 13,
   "metadata": {},
   "outputs": [
    {
     "data": {
      "text/latex": [
       "$\\displaystyle (p_{x} \\operatorname{cos}\\left(\\theta\\right) + p_{z} \\operatorname{sin}\\left(\\theta\\right) + x_{0})\\mathbf{\\hat{n}_x} + (- p_{x} \\operatorname{sin}\\left(\\theta\\right) + p_{z} \\operatorname{cos}\\left(\\theta\\right) + z_{0})\\mathbf{\\hat{n}_z}$"
      ],
      "text/plain": [
       "(p_x*cos(theta) + p_z*sin(theta) + x0)*N.x + (-p_x*sin(theta) + p_z*cos(theta) + z0)*N.z"
      ]
     },
     "execution_count": 13,
     "metadata": {},
     "output_type": "execute_result"
    }
   ],
   "source": [
    "vector = P.pos_from(M)\n",
    "motion_P = vector.express(N)\n",
    "motion_P"
   ]
  },
  {
   "cell_type": "code",
   "execution_count": 14,
   "metadata": {},
   "outputs": [
    {
     "data": {
      "text/latex": [
       "$\\displaystyle \\left[\\begin{matrix}p_{x} \\cos{\\left(\\theta{\\left(t \\right)} \\right)} + p_{z} \\sin{\\left(\\theta{\\left(t \\right)} \\right)} + \\operatorname{x_{0}}{\\left(t \\right)}\\\\0\\\\- p_{x} \\sin{\\left(\\theta{\\left(t \\right)} \\right)} + p_{z} \\cos{\\left(\\theta{\\left(t \\right)} \\right)} + \\operatorname{z_{0}}{\\left(t \\right)}\\end{matrix}\\right]$"
      ],
      "text/plain": [
       "Matrix([\n",
       "[ p_x*cos(theta(t)) + p_z*sin(theta(t)) + x0(t)],\n",
       "[                                             0],\n",
       "[-p_x*sin(theta(t)) + p_z*cos(theta(t)) + z0(t)]])"
      ]
     },
     "execution_count": 14,
     "metadata": {},
     "output_type": "execute_result"
    }
   ],
   "source": [
    "motion_matrix = vector.to_matrix(N)\n",
    "motion_matrix"
   ]
  },
  {
   "cell_type": "code",
   "execution_count": 15,
   "metadata": {},
   "outputs": [],
   "source": [
    "motion_lambda = lambdify(motion_matrix)"
   ]
  },
  {
   "cell_type": "code",
   "execution_count": 16,
   "metadata": {},
   "outputs": [
    {
     "data": {
      "text/plain": [
       "<function _lambdifygenerated(z0, p_z, theta, x0, p_x)>"
      ]
     },
     "execution_count": 16,
     "metadata": {},
     "output_type": "execute_result"
    }
   ],
   "source": [
    "motion_lambda"
   ]
  },
  {
   "cell_type": "code",
   "execution_count": 17,
   "metadata": {},
   "outputs": [
    {
     "data": {
      "text/plain": [
       "<matplotlib.axes._subplots.AxesSubplot at 0xe7109d0>"
      ]
     },
     "execution_count": 17,
     "metadata": {},
     "output_type": "execute_result"
    },
    {
     "data": {
      "image/png": "[encoded data removed]",
      "text/plain": [
       "<Figure size 432x288 with 1 Axes>"
      ]
     },
     "metadata": {
      "needs_background": "light"
     },
     "output_type": "display_data"
    },
    {
     "data": {
      "image/png": "[encoded data removed]",
      "text/plain": [
       "<Figure size 432x288 with 1 Axes>"
      ]
     },
     "metadata": {
      "needs_background": "light"
     },
     "output_type": "display_data"
    }
   ],
   "source": [
    "number_of_points = 100\n",
    "t = np.linspace(0,2*np.pi,number_of_points)\n",
    "df = pd.DataFrame(index = t)\n",
    "df['theta'] = np.sin(t)\n",
    "df['p_z'] = 1\n",
    "df['p_x'] = 20\n",
    "df['x0'] = np.sin(t)\n",
    "df['z0'] = -np.sin(t)\n",
    "motions = motion_lambda(**df)\n",
    "\n",
    "df_result = df.copy()\n",
    "df_result['x'] = motions[0][0]\n",
    "df_result['y'] = motions[1][0]\n",
    "df_result['z'] = motions[2][0]\n",
    "\n",
    "fig,ax=plt.subplots()\n",
    "df_result.plot(y='x', ax=ax)\n",
    "\n",
    "fig,ax=plt.subplots()\n",
    "df_result.plot(y='z', ax=ax)\n"
   ]
  },
  {
   "cell_type": "markdown",
   "metadata": {},
   "source": [
    "## Velocity"
   ]
  },
  {
   "cell_type": "code",
   "execution_count": 18,
   "metadata": {},
   "outputs": [
    {
     "data": {
      "text/latex": [
       "$\\displaystyle \\dot{x}_{0}\\mathbf{\\hat{n}_x} + \\dot{z}_{0}\\mathbf{\\hat{n}_z} + p_{z} \\dot{\\theta}\\mathbf{\\hat{s}_x} -  p_{x} \\dot{\\theta}\\mathbf{\\hat{s}_z}$"
      ],
      "text/plain": [
       "x0'*N.x + z0'*N.z + p_z*theta'*S.x - p_x*theta'*S.z"
      ]
     },
     "execution_count": 18,
     "metadata": {},
     "output_type": "execute_result"
    }
   ],
   "source": [
    "P.v2pt_theory(O,N,S)"
   ]
  },
  {
   "cell_type": "code",
   "execution_count": 19,
   "metadata": {},
   "outputs": [
    {
     "data": {
      "text/latex": [
       "$\\displaystyle \\left[\\begin{matrix}- p_{x} \\sin{\\left(\\theta{\\left(t \\right)} \\right)} \\frac{d}{d t} \\theta{\\left(t \\right)} + p_{z} \\cos{\\left(\\theta{\\left(t \\right)} \\right)} \\frac{d}{d t} \\theta{\\left(t \\right)} + \\frac{d}{d t} \\operatorname{x_{0}}{\\left(t \\right)}\\\\0\\\\- p_{x} \\cos{\\left(\\theta{\\left(t \\right)} \\right)} \\frac{d}{d t} \\theta{\\left(t \\right)} - p_{z} \\sin{\\left(\\theta{\\left(t \\right)} \\right)} \\frac{d}{d t} \\theta{\\left(t \\right)} + \\frac{d}{d t} \\operatorname{z_{0}}{\\left(t \\right)}\\end{matrix}\\right]$"
      ],
      "text/plain": [
       "Matrix([\n",
       "[-p_x*sin(theta(t))*Derivative(theta(t), t) + p_z*cos(theta(t))*Derivative(theta(t), t) + Derivative(x0(t), t)],\n",
       "[                                                                                                            0],\n",
       "[-p_x*cos(theta(t))*Derivative(theta(t), t) - p_z*sin(theta(t))*Derivative(theta(t), t) + Derivative(z0(t), t)]])"
      ]
     },
     "execution_count": 19,
     "metadata": {},
     "output_type": "execute_result"
    }
   ],
   "source": [
    "velocity_matrix = P.vel(N).express(N).to_matrix(N)\n",
    "velocity_matrix"
   ]
  },
  {
   "cell_type": "code",
   "execution_count": 20,
   "metadata": {},
   "outputs": [],
   "source": [
    "velocity_lambda = lambdify(velocity_matrix)"
   ]
  },
  {
   "cell_type": "code",
   "execution_count": 21,
   "metadata": {},
   "outputs": [
    {
     "data": {
      "text/latex": [
       "$\\displaystyle \\theta{\\left(t \\right)}$"
      ],
      "text/plain": [
       "theta(t)"
      ]
     },
     "execution_count": 21,
     "metadata": {},
     "output_type": "execute_result"
    }
   ],
   "source": [
    "q.expr"
   ]
  },
  {
   "cell_type": "code",
   "execution_count": 22,
   "metadata": {},
   "outputs": [
    {
     "data": {
      "text/latex": [
       "$\\displaystyle \\frac{d}{d t} \\theta{\\left(t \\right)}$"
      ],
      "text/plain": [
       "Derivative(theta(t), t)"
      ]
     },
     "execution_count": 22,
     "metadata": {},
     "output_type": "execute_result"
    }
   ],
   "source": [
    "q"
   ]
  },
  {
   "cell_type": "code",
   "execution_count": 23,
   "metadata": {},
   "outputs": [
    {
     "data": {
      "text/latex": [
       "$\\displaystyle 2$"
      ],
      "text/plain": [
       "2"
      ]
     },
     "execution_count": 23,
     "metadata": {},
     "output_type": "execute_result"
    }
   ],
   "source": [
    "q1d.args[1][1]"
   ]
  },
  {
   "cell_type": "code",
   "execution_count": 24,
   "metadata": {},
   "outputs": [
    {
     "data": {
      "text/plain": [
       "<function _lambdifygenerated(theta, p_z, z01d, x01d, p_x, theta1d)>"
      ]
     },
     "execution_count": 24,
     "metadata": {},
     "output_type": "execute_result"
    }
   ],
   "source": [
    "velocity_lambda"
   ]
  },
  {
   "cell_type": "code",
   "execution_count": 25,
   "metadata": {},
   "outputs": [
    {
     "data": {
      "text/plain": [
       "<matplotlib.axes._subplots.AxesSubplot at 0xe7a9230>"
      ]
     },
     "execution_count": 25,
     "metadata": {},
     "output_type": "execute_result"
    },
    {
     "data": {
      "image/png": "[encoded data removed]",
      "text/plain": [
       "<Figure size 432x288 with 1 Axes>"
      ]
     },
     "metadata": {
      "needs_background": "light"
     },
     "output_type": "display_data"
    },
    {
     "data": {
      "image/png": "[encoded data removed]",
      "text/plain": [
       "<Figure size 432x288 with 1 Axes>"
      ]
     },
     "metadata": {
      "needs_background": "light"
     },
     "output_type": "display_data"
    }
   ],
   "source": [
    "number_of_points = 100\n",
    "t = np.linspace(0,2*np.pi,number_of_points)\n",
    "df = pd.DataFrame(index = t)\n",
    "df['theta'] = np.sin(t)\n",
    "df['theta1d'] = np.cos(t)\n",
    "df['p_z'] = 1\n",
    "df['p_x'] = 20\n",
    "df['x01d'] = 10\n",
    "df['z01d'] = 0\n",
    "\n",
    "\n",
    "velocities = velocity_lambda(**df)\n",
    "\n",
    "df_result = df.copy()\n",
    "df_result['x01d'] = velocities[0][0]\n",
    "df_result['y01d'] = velocities[1][0]\n",
    "df_result['z01d'] = velocities[2][0]\n",
    "\n",
    "fig,ax=plt.subplots()\n",
    "df_result.plot(y='x01d', ax=ax)\n",
    "\n",
    "fig,ax=plt.subplots()\n",
    "df_result.plot(y='z01d', ax=ax)"
   ]
  },
  {
   "cell_type": "markdown",
   "metadata": {},
   "source": [
    "## Acceleration"
   ]
  },
  {
   "cell_type": "code",
   "execution_count": 26,
   "metadata": {},
   "outputs": [
    {
     "data": {
      "text/latex": [
       "$\\displaystyle \\ddot{x}_{0}\\mathbf{\\hat{n}_x} + \\ddot{z}_{0}\\mathbf{\\hat{n}_z} + (- p_{x} \\dot{\\theta}^{2} + p_{z} \\ddot{\\theta})\\mathbf{\\hat{s}_x} + (- p_{x} \\ddot{\\theta} - p_{z} \\dot{\\theta}^{2})\\mathbf{\\hat{s}_z}$"
      ],
      "text/plain": [
       "x0''*N.x + z0''*N.z + (-p_x*theta'**2 + p_z*theta'')*S.x + (-p_x*theta'' - p_z*theta'**2)*S.z"
      ]
     },
     "execution_count": 26,
     "metadata": {},
     "output_type": "execute_result"
    }
   ],
   "source": [
    "P.a2pt_theory(O,N,S)"
   ]
  },
  {
   "cell_type": "code",
   "execution_count": 27,
   "metadata": {},
   "outputs": [
    {
     "data": {
      "text/latex": [
       "$\\displaystyle \\left[\\begin{matrix}\\left(- p_{x} \\left(\\frac{d}{d t} \\theta{\\left(t \\right)}\\right)^{2} + p_{z} \\frac{d^{2}}{d t^{2}} \\theta{\\left(t \\right)}\\right) \\cos{\\left(\\theta{\\left(t \\right)} \\right)} + \\left(- p_{x} \\frac{d^{2}}{d t^{2}} \\theta{\\left(t \\right)} - p_{z} \\left(\\frac{d}{d t} \\theta{\\left(t \\right)}\\right)^{2}\\right) \\sin{\\left(\\theta{\\left(t \\right)} \\right)} + \\frac{d^{2}}{d t^{2}} \\operatorname{x_{0}}{\\left(t \\right)}\\\\0\\\\- \\left(- p_{x} \\left(\\frac{d}{d t} \\theta{\\left(t \\right)}\\right)^{2} + p_{z} \\frac{d^{2}}{d t^{2}} \\theta{\\left(t \\right)}\\right) \\sin{\\left(\\theta{\\left(t \\right)} \\right)} + \\left(- p_{x} \\frac{d^{2}}{d t^{2}} \\theta{\\left(t \\right)} - p_{z} \\left(\\frac{d}{d t} \\theta{\\left(t \\right)}\\right)^{2}\\right) \\cos{\\left(\\theta{\\left(t \\right)} \\right)} + \\frac{d^{2}}{d t^{2}} \\operatorname{z_{0}}{\\left(t \\right)}\\end{matrix}\\right]$"
      ],
      "text/plain": [
       "Matrix([\n",
       "[ (-p_x*Derivative(theta(t), t)**2 + p_z*Derivative(theta(t), (t, 2)))*cos(theta(t)) + (-p_x*Derivative(theta(t), (t, 2)) - p_z*Derivative(theta(t), t)**2)*sin(theta(t)) + Derivative(x0(t), (t, 2))],\n",
       "[                                                                                                                                                                                                   0],\n",
       "[-(-p_x*Derivative(theta(t), t)**2 + p_z*Derivative(theta(t), (t, 2)))*sin(theta(t)) + (-p_x*Derivative(theta(t), (t, 2)) - p_z*Derivative(theta(t), t)**2)*cos(theta(t)) + Derivative(z0(t), (t, 2))]])"
      ]
     },
     "execution_count": 27,
     "metadata": {},
     "output_type": "execute_result"
    }
   ],
   "source": [
    "acceleration_matrix = P.acc(N).express(N).to_matrix(N)\n",
    "acceleration_matrix"
   ]
  },
  {
   "cell_type": "code",
   "execution_count": 28,
   "metadata": {},
   "outputs": [],
   "source": [
    "acceleration_lambda = lambdify(acceleration_matrix)"
   ]
  },
  {
   "cell_type": "code",
   "execution_count": 29,
   "metadata": {},
   "outputs": [
    {
     "data": {
      "text/plain": [
       "<function _lambdifygenerated(theta2d, theta, p_z, x02d, z02d, p_x, theta1d)>"
      ]
     },
     "execution_count": 29,
     "metadata": {},
     "output_type": "execute_result"
    }
   ],
   "source": [
    "acceleration_lambda"
   ]
  },
  {
   "cell_type": "markdown",
   "metadata": {},
   "source": [
    "### Centrifugal acceleration\n",
    "Absolute acceleration can be calcualted as: <br>\n",
    "$ |a| = r\\cdot\\dot{\\theta}^2 $\n",
    "\n",
    "With the components: <br>\n",
    "$ \\ddot{x_0} = -a\\cdot cos(\\theta) $ <br>\n",
    "$ \\ddot{z_0} = a\\cdot sin(\\theta) $\n"
   ]
  },
  {
   "cell_type": "code",
   "execution_count": 30,
   "metadata": {},
   "outputs": [
    {
     "data": {
      "text/plain": [
       "<matplotlib.axes._subplots.AxesSubplot at 0xe7ea390>"
      ]
     },
     "execution_count": 30,
     "metadata": {},
     "output_type": "execute_result"
    },
    {
     "data": {
      "image/png": "[encoded data removed]",
      "text/plain": [
       "<Figure size 432x288 with 1 Axes>"
      ]
     },
     "metadata": {
      "needs_background": "light"
     },
     "output_type": "display_data"
    },
    {
     "data": {
      "image/png": "[encoded data removed]",
      "text/plain": [
       "<Figure size 432x288 with 1 Axes>"
      ]
     },
     "metadata": {
      "needs_background": "light"
     },
     "output_type": "display_data"
    }
   ],
   "source": [
    "number_of_points = 100\n",
    "t = np.linspace(0,2*np.pi,number_of_points)\n",
    "r_ = 10\n",
    "w_ = 1\n",
    "df = pd.DataFrame(index = t)\n",
    "df['theta'] = w_*t\n",
    "df['theta1d'] = w_\n",
    "df['theta2d'] = 0\n",
    "df['p_z'] = 0\n",
    "df['p_x'] = r_\n",
    "df['x02d'] = 0\n",
    "df['z02d'] = 0\n",
    "\n",
    "\n",
    "accelerations = acceleration_lambda(**df)\n",
    "\n",
    "df_result = df.copy()\n",
    "df_result['x02d'] = accelerations[0][0]\n",
    "df_result['y02d'] = accelerations[1][0]\n",
    "df_result['z02d'] = accelerations[2][0]\n",
    "\n",
    "a = r_* w_**2\n",
    "df_result['x02d_check'] = -a*np.cos(df['theta'])\n",
    "df_result['z02d_check'] = a*np.sin(df['theta'])\n",
    "\n",
    "fig,ax=plt.subplots()\n",
    "df_result.plot(y=['x02d','x02d_check'], ax=ax, alpha=0.7)\n",
    "\n",
    "fig,ax=plt.subplots()\n",
    "df_result.plot(y=['z02d','z02d_check'], ax=ax, alpha=0.7)"
   ]
  },
  {
   "cell_type": "markdown",
   "metadata": {},
   "source": [
    "## Save lambdas"
   ]
  },
  {
   "cell_type": "code",
   "execution_count": 33,
   "metadata": {},
   "outputs": [],
   "source": [
    "import dill\n",
    "dill.settings['recurse'] = True"
   ]
  },
  {
   "cell_type": "code",
   "execution_count": 40,
   "metadata": {},
   "outputs": [],
   "source": [
    "with open('test.dill',mode='wb') as file:\n",
    "    dill.dump(acceleration_lambda, file=file)"
   ]
  },
  {
   "cell_type": "code",
   "execution_count": 38,
   "metadata": {},
   "outputs": [],
   "source": [
    "#with open('test',mode='rb') as file:\n",
    "#    s = dill.load(file)"
   ]
  },
  {
   "cell_type": "code",
   "execution_count": null,
   "metadata": {},
   "outputs": [],
   "source": []
  }
 ],
 "metadata": {
  "kernelspec": {
   "display_name": "Python 3",
   "language": "python",
   "name": "python3"
  },
  "language_info": {
   "codemirror_mode": {
    "name": "ipython",
    "version": 3
   },
   "file_extension": ".py",
   "mimetype": "text/x-python",
   "name": "python",
   "nbconvert_exporter": "python",
   "pygments_lexer": "ipython3",
   "version": "3.5.4"
  }
 },
 "nbformat": 4,
 "nbformat_minor": 4
}
